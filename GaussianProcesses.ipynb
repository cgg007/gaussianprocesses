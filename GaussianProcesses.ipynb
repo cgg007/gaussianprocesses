{
  "nbformat": 4,
  "nbformat_minor": 0,
  "metadata": {
    "colab": {
      "provenance": []
    },
    "kernelspec": {
      "name": "python3",
      "display_name": "Python 3"
    },
    "language_info": {
      "name": "python"
    }
  },
  "cells": [
    {
      "cell_type": "code",
      "execution_count": 27,
      "metadata": {
        "colab": {
          "base_uri": "https://localhost:8080/"
        },
        "id": "UdoFL09KatxB",
        "outputId": "3007d14a-f696-440f-90c6-5593e7c5002d"
      },
      "outputs": [
        {
          "output_type": "stream",
          "name": "stdout",
          "text": [
            "Looking in indexes: https://pypi.org/simple, https://us-python.pkg.dev/colab-wheels/public/simple/\n",
            "Requirement already satisfied: bayesian-optimization in /usr/local/lib/python3.10/dist-packages (1.4.3)\n",
            "Requirement already satisfied: numpy>=1.9.0 in /usr/local/lib/python3.10/dist-packages (from bayesian-optimization) (1.22.4)\n",
            "Requirement already satisfied: scipy>=1.0.0 in /usr/local/lib/python3.10/dist-packages (from bayesian-optimization) (1.10.1)\n",
            "Requirement already satisfied: scikit-learn>=0.18.0 in /usr/local/lib/python3.10/dist-packages (from bayesian-optimization) (1.2.2)\n",
            "Requirement already satisfied: colorama>=0.4.6 in /usr/local/lib/python3.10/dist-packages (from bayesian-optimization) (0.4.6)\n",
            "Requirement already satisfied: joblib>=1.1.1 in /usr/local/lib/python3.10/dist-packages (from scikit-learn>=0.18.0->bayesian-optimization) (1.2.0)\n",
            "Requirement already satisfied: threadpoolctl>=2.0.0 in /usr/local/lib/python3.10/dist-packages (from scikit-learn>=0.18.0->bayesian-optimization) (3.1.0)\n"
          ]
        }
      ],
      "source": [
        "!pip install bayesian-optimization"
      ]
    },
    {
      "cell_type": "code",
      "source": [
        "import pandas as pd\n",
        "import numpy as np\n",
        "from sklearn.model_selection import StratifiedKFold\n",
        "from scipy.stats import rankdata\n",
        "import lightgbm as lgb\n",
        "from sklearn import metrics\n",
        "import gc\n",
        "import warnings\n",
        "import matplotlib.pyplot as plt\n",
        "from sklearn.preprocessing import LabelEncoder"
      ],
      "metadata": {
        "id": "KbTOCe60kxiX"
      },
      "execution_count": 28,
      "outputs": []
    },
    {
      "cell_type": "code",
      "source": [
        "df = pd.read_csv(\"/content/drive/MyDrive/weatherAUS.csv\")\n",
        "df.dropna(subset=[\"RainTomorrow\"], inplace=True)"
      ],
      "metadata": {
        "id": "CCeTBZmOnBBf"
      },
      "execution_count": 29,
      "outputs": []
    },
    {
      "cell_type": "code",
      "source": [
        "df.head()"
      ],
      "metadata": {
        "colab": {
          "base_uri": "https://localhost:8080/",
          "height": 386
        },
        "id": "SCNnvc1gnHfb",
        "outputId": "1ae0bd47-8d38-4d80-a2d0-436750eb2b35"
      },
      "execution_count": 30,
      "outputs": [
        {
          "output_type": "execute_result",
          "data": {
            "text/plain": [
              "         Date Location  MinTemp  MaxTemp  Rainfall  Evaporation  Sunshine  \\\n",
              "0  2008-12-01   Albury     13.4     22.9       0.6          NaN       NaN   \n",
              "1  2008-12-02   Albury      7.4     25.1       0.0          NaN       NaN   \n",
              "2  2008-12-03   Albury     12.9     25.7       0.0          NaN       NaN   \n",
              "3  2008-12-04   Albury      9.2     28.0       0.0          NaN       NaN   \n",
              "4  2008-12-05   Albury     17.5     32.3       1.0          NaN       NaN   \n",
              "\n",
              "  WindGustDir  WindGustSpeed WindDir9am  ... Humidity9am  Humidity3pm  \\\n",
              "0           W           44.0          W  ...        71.0         22.0   \n",
              "1         WNW           44.0        NNW  ...        44.0         25.0   \n",
              "2         WSW           46.0          W  ...        38.0         30.0   \n",
              "3          NE           24.0         SE  ...        45.0         16.0   \n",
              "4           W           41.0        ENE  ...        82.0         33.0   \n",
              "\n",
              "   Pressure9am  Pressure3pm  Cloud9am  Cloud3pm  Temp9am  Temp3pm  RainToday  \\\n",
              "0       1007.7       1007.1       8.0       NaN     16.9     21.8         No   \n",
              "1       1010.6       1007.8       NaN       NaN     17.2     24.3         No   \n",
              "2       1007.6       1008.7       NaN       2.0     21.0     23.2         No   \n",
              "3       1017.6       1012.8       NaN       NaN     18.1     26.5         No   \n",
              "4       1010.8       1006.0       7.0       8.0     17.8     29.7         No   \n",
              "\n",
              "   RainTomorrow  \n",
              "0            No  \n",
              "1            No  \n",
              "2            No  \n",
              "3            No  \n",
              "4            No  \n",
              "\n",
              "[5 rows x 23 columns]"
            ],
            "text/html": [
              "\n",
              "  <div id=\"df-3aeb7393-6f77-41c0-aab4-25d90a97264d\">\n",
              "    <div class=\"colab-df-container\">\n",
              "      <div>\n",
              "<style scoped>\n",
              "    .dataframe tbody tr th:only-of-type {\n",
              "        vertical-align: middle;\n",
              "    }\n",
              "\n",
              "    .dataframe tbody tr th {\n",
              "        vertical-align: top;\n",
              "    }\n",
              "\n",
              "    .dataframe thead th {\n",
              "        text-align: right;\n",
              "    }\n",
              "</style>\n",
              "<table border=\"1\" class=\"dataframe\">\n",
              "  <thead>\n",
              "    <tr style=\"text-align: right;\">\n",
              "      <th></th>\n",
              "      <th>Date</th>\n",
              "      <th>Location</th>\n",
              "      <th>MinTemp</th>\n",
              "      <th>MaxTemp</th>\n",
              "      <th>Rainfall</th>\n",
              "      <th>Evaporation</th>\n",
              "      <th>Sunshine</th>\n",
              "      <th>WindGustDir</th>\n",
              "      <th>WindGustSpeed</th>\n",
              "      <th>WindDir9am</th>\n",
              "      <th>...</th>\n",
              "      <th>Humidity9am</th>\n",
              "      <th>Humidity3pm</th>\n",
              "      <th>Pressure9am</th>\n",
              "      <th>Pressure3pm</th>\n",
              "      <th>Cloud9am</th>\n",
              "      <th>Cloud3pm</th>\n",
              "      <th>Temp9am</th>\n",
              "      <th>Temp3pm</th>\n",
              "      <th>RainToday</th>\n",
              "      <th>RainTomorrow</th>\n",
              "    </tr>\n",
              "  </thead>\n",
              "  <tbody>\n",
              "    <tr>\n",
              "      <th>0</th>\n",
              "      <td>2008-12-01</td>\n",
              "      <td>Albury</td>\n",
              "      <td>13.4</td>\n",
              "      <td>22.9</td>\n",
              "      <td>0.6</td>\n",
              "      <td>NaN</td>\n",
              "      <td>NaN</td>\n",
              "      <td>W</td>\n",
              "      <td>44.0</td>\n",
              "      <td>W</td>\n",
              "      <td>...</td>\n",
              "      <td>71.0</td>\n",
              "      <td>22.0</td>\n",
              "      <td>1007.7</td>\n",
              "      <td>1007.1</td>\n",
              "      <td>8.0</td>\n",
              "      <td>NaN</td>\n",
              "      <td>16.9</td>\n",
              "      <td>21.8</td>\n",
              "      <td>No</td>\n",
              "      <td>No</td>\n",
              "    </tr>\n",
              "    <tr>\n",
              "      <th>1</th>\n",
              "      <td>2008-12-02</td>\n",
              "      <td>Albury</td>\n",
              "      <td>7.4</td>\n",
              "      <td>25.1</td>\n",
              "      <td>0.0</td>\n",
              "      <td>NaN</td>\n",
              "      <td>NaN</td>\n",
              "      <td>WNW</td>\n",
              "      <td>44.0</td>\n",
              "      <td>NNW</td>\n",
              "      <td>...</td>\n",
              "      <td>44.0</td>\n",
              "      <td>25.0</td>\n",
              "      <td>1010.6</td>\n",
              "      <td>1007.8</td>\n",
              "      <td>NaN</td>\n",
              "      <td>NaN</td>\n",
              "      <td>17.2</td>\n",
              "      <td>24.3</td>\n",
              "      <td>No</td>\n",
              "      <td>No</td>\n",
              "    </tr>\n",
              "    <tr>\n",
              "      <th>2</th>\n",
              "      <td>2008-12-03</td>\n",
              "      <td>Albury</td>\n",
              "      <td>12.9</td>\n",
              "      <td>25.7</td>\n",
              "      <td>0.0</td>\n",
              "      <td>NaN</td>\n",
              "      <td>NaN</td>\n",
              "      <td>WSW</td>\n",
              "      <td>46.0</td>\n",
              "      <td>W</td>\n",
              "      <td>...</td>\n",
              "      <td>38.0</td>\n",
              "      <td>30.0</td>\n",
              "      <td>1007.6</td>\n",
              "      <td>1008.7</td>\n",
              "      <td>NaN</td>\n",
              "      <td>2.0</td>\n",
              "      <td>21.0</td>\n",
              "      <td>23.2</td>\n",
              "      <td>No</td>\n",
              "      <td>No</td>\n",
              "    </tr>\n",
              "    <tr>\n",
              "      <th>3</th>\n",
              "      <td>2008-12-04</td>\n",
              "      <td>Albury</td>\n",
              "      <td>9.2</td>\n",
              "      <td>28.0</td>\n",
              "      <td>0.0</td>\n",
              "      <td>NaN</td>\n",
              "      <td>NaN</td>\n",
              "      <td>NE</td>\n",
              "      <td>24.0</td>\n",
              "      <td>SE</td>\n",
              "      <td>...</td>\n",
              "      <td>45.0</td>\n",
              "      <td>16.0</td>\n",
              "      <td>1017.6</td>\n",
              "      <td>1012.8</td>\n",
              "      <td>NaN</td>\n",
              "      <td>NaN</td>\n",
              "      <td>18.1</td>\n",
              "      <td>26.5</td>\n",
              "      <td>No</td>\n",
              "      <td>No</td>\n",
              "    </tr>\n",
              "    <tr>\n",
              "      <th>4</th>\n",
              "      <td>2008-12-05</td>\n",
              "      <td>Albury</td>\n",
              "      <td>17.5</td>\n",
              "      <td>32.3</td>\n",
              "      <td>1.0</td>\n",
              "      <td>NaN</td>\n",
              "      <td>NaN</td>\n",
              "      <td>W</td>\n",
              "      <td>41.0</td>\n",
              "      <td>ENE</td>\n",
              "      <td>...</td>\n",
              "      <td>82.0</td>\n",
              "      <td>33.0</td>\n",
              "      <td>1010.8</td>\n",
              "      <td>1006.0</td>\n",
              "      <td>7.0</td>\n",
              "      <td>8.0</td>\n",
              "      <td>17.8</td>\n",
              "      <td>29.7</td>\n",
              "      <td>No</td>\n",
              "      <td>No</td>\n",
              "    </tr>\n",
              "  </tbody>\n",
              "</table>\n",
              "<p>5 rows × 23 columns</p>\n",
              "</div>\n",
              "      <button class=\"colab-df-convert\" onclick=\"convertToInteractive('df-3aeb7393-6f77-41c0-aab4-25d90a97264d')\"\n",
              "              title=\"Convert this dataframe to an interactive table.\"\n",
              "              style=\"display:none;\">\n",
              "        \n",
              "  <svg xmlns=\"http://www.w3.org/2000/svg\" height=\"24px\"viewBox=\"0 0 24 24\"\n",
              "       width=\"24px\">\n",
              "    <path d=\"M0 0h24v24H0V0z\" fill=\"none\"/>\n",
              "    <path d=\"M18.56 5.44l.94 2.06.94-2.06 2.06-.94-2.06-.94-.94-2.06-.94 2.06-2.06.94zm-11 1L8.5 8.5l.94-2.06 2.06-.94-2.06-.94L8.5 2.5l-.94 2.06-2.06.94zm10 10l.94 2.06.94-2.06 2.06-.94-2.06-.94-.94-2.06-.94 2.06-2.06.94z\"/><path d=\"M17.41 7.96l-1.37-1.37c-.4-.4-.92-.59-1.43-.59-.52 0-1.04.2-1.43.59L10.3 9.45l-7.72 7.72c-.78.78-.78 2.05 0 2.83L4 21.41c.39.39.9.59 1.41.59.51 0 1.02-.2 1.41-.59l7.78-7.78 2.81-2.81c.8-.78.8-2.07 0-2.86zM5.41 20L4 18.59l7.72-7.72 1.47 1.35L5.41 20z\"/>\n",
              "  </svg>\n",
              "      </button>\n",
              "      \n",
              "  <style>\n",
              "    .colab-df-container {\n",
              "      display:flex;\n",
              "      flex-wrap:wrap;\n",
              "      gap: 12px;\n",
              "    }\n",
              "\n",
              "    .colab-df-convert {\n",
              "      background-color: #E8F0FE;\n",
              "      border: none;\n",
              "      border-radius: 50%;\n",
              "      cursor: pointer;\n",
              "      display: none;\n",
              "      fill: #1967D2;\n",
              "      height: 32px;\n",
              "      padding: 0 0 0 0;\n",
              "      width: 32px;\n",
              "    }\n",
              "\n",
              "    .colab-df-convert:hover {\n",
              "      background-color: #E2EBFA;\n",
              "      box-shadow: 0px 1px 2px rgba(60, 64, 67, 0.3), 0px 1px 3px 1px rgba(60, 64, 67, 0.15);\n",
              "      fill: #174EA6;\n",
              "    }\n",
              "\n",
              "    [theme=dark] .colab-df-convert {\n",
              "      background-color: #3B4455;\n",
              "      fill: #D2E3FC;\n",
              "    }\n",
              "\n",
              "    [theme=dark] .colab-df-convert:hover {\n",
              "      background-color: #434B5C;\n",
              "      box-shadow: 0px 1px 3px 1px rgba(0, 0, 0, 0.15);\n",
              "      filter: drop-shadow(0px 1px 2px rgba(0, 0, 0, 0.3));\n",
              "      fill: #FFFFFF;\n",
              "    }\n",
              "  </style>\n",
              "\n",
              "      <script>\n",
              "        const buttonEl =\n",
              "          document.querySelector('#df-3aeb7393-6f77-41c0-aab4-25d90a97264d button.colab-df-convert');\n",
              "        buttonEl.style.display =\n",
              "          google.colab.kernel.accessAllowed ? 'block' : 'none';\n",
              "\n",
              "        async function convertToInteractive(key) {\n",
              "          const element = document.querySelector('#df-3aeb7393-6f77-41c0-aab4-25d90a97264d');\n",
              "          const dataTable =\n",
              "            await google.colab.kernel.invokeFunction('convertToInteractive',\n",
              "                                                     [key], {});\n",
              "          if (!dataTable) return;\n",
              "\n",
              "          const docLinkHtml = 'Like what you see? Visit the ' +\n",
              "            '<a target=\"_blank\" href=https://colab.research.google.com/notebooks/data_table.ipynb>data table notebook</a>'\n",
              "            + ' to learn more about interactive tables.';\n",
              "          element.innerHTML = '';\n",
              "          dataTable['output_type'] = 'display_data';\n",
              "          await google.colab.output.renderOutput(dataTable, element);\n",
              "          const docLink = document.createElement('div');\n",
              "          docLink.innerHTML = docLinkHtml;\n",
              "          element.appendChild(docLink);\n",
              "        }\n",
              "      </script>\n",
              "    </div>\n",
              "  </div>\n",
              "  "
            ]
          },
          "metadata": {},
          "execution_count": 30
        }
      ]
    },
    {
      "cell_type": "code",
      "source": [
        "df.shape"
      ],
      "metadata": {
        "colab": {
          "base_uri": "https://localhost:8080/"
        },
        "id": "QDN2rIJbh4NE",
        "outputId": "c1e698b4-1012-4335-d694-af96997f9ada"
      },
      "execution_count": 31,
      "outputs": [
        {
          "output_type": "execute_result",
          "data": {
            "text/plain": [
              "(142193, 23)"
            ]
          },
          "metadata": {},
          "execution_count": 31
        }
      ]
    },
    {
      "cell_type": "code",
      "source": [
        "train_df = df.copy()\n",
        "train_df.head()"
      ],
      "metadata": {
        "colab": {
          "base_uri": "https://localhost:8080/",
          "height": 386
        },
        "id": "wbJnL-iJz_-1",
        "outputId": "d4abfc25-2ffb-46a8-8c61-6acfa230ceb2"
      },
      "execution_count": 32,
      "outputs": [
        {
          "output_type": "execute_result",
          "data": {
            "text/plain": [
              "         Date Location  MinTemp  MaxTemp  Rainfall  Evaporation  Sunshine  \\\n",
              "0  2008-12-01   Albury     13.4     22.9       0.6          NaN       NaN   \n",
              "1  2008-12-02   Albury      7.4     25.1       0.0          NaN       NaN   \n",
              "2  2008-12-03   Albury     12.9     25.7       0.0          NaN       NaN   \n",
              "3  2008-12-04   Albury      9.2     28.0       0.0          NaN       NaN   \n",
              "4  2008-12-05   Albury     17.5     32.3       1.0          NaN       NaN   \n",
              "\n",
              "  WindGustDir  WindGustSpeed WindDir9am  ... Humidity9am  Humidity3pm  \\\n",
              "0           W           44.0          W  ...        71.0         22.0   \n",
              "1         WNW           44.0        NNW  ...        44.0         25.0   \n",
              "2         WSW           46.0          W  ...        38.0         30.0   \n",
              "3          NE           24.0         SE  ...        45.0         16.0   \n",
              "4           W           41.0        ENE  ...        82.0         33.0   \n",
              "\n",
              "   Pressure9am  Pressure3pm  Cloud9am  Cloud3pm  Temp9am  Temp3pm  RainToday  \\\n",
              "0       1007.7       1007.1       8.0       NaN     16.9     21.8         No   \n",
              "1       1010.6       1007.8       NaN       NaN     17.2     24.3         No   \n",
              "2       1007.6       1008.7       NaN       2.0     21.0     23.2         No   \n",
              "3       1017.6       1012.8       NaN       NaN     18.1     26.5         No   \n",
              "4       1010.8       1006.0       7.0       8.0     17.8     29.7         No   \n",
              "\n",
              "   RainTomorrow  \n",
              "0            No  \n",
              "1            No  \n",
              "2            No  \n",
              "3            No  \n",
              "4            No  \n",
              "\n",
              "[5 rows x 23 columns]"
            ],
            "text/html": [
              "\n",
              "  <div id=\"df-65428c9c-b8d7-45ff-a6e9-d69fa2a44d8b\">\n",
              "    <div class=\"colab-df-container\">\n",
              "      <div>\n",
              "<style scoped>\n",
              "    .dataframe tbody tr th:only-of-type {\n",
              "        vertical-align: middle;\n",
              "    }\n",
              "\n",
              "    .dataframe tbody tr th {\n",
              "        vertical-align: top;\n",
              "    }\n",
              "\n",
              "    .dataframe thead th {\n",
              "        text-align: right;\n",
              "    }\n",
              "</style>\n",
              "<table border=\"1\" class=\"dataframe\">\n",
              "  <thead>\n",
              "    <tr style=\"text-align: right;\">\n",
              "      <th></th>\n",
              "      <th>Date</th>\n",
              "      <th>Location</th>\n",
              "      <th>MinTemp</th>\n",
              "      <th>MaxTemp</th>\n",
              "      <th>Rainfall</th>\n",
              "      <th>Evaporation</th>\n",
              "      <th>Sunshine</th>\n",
              "      <th>WindGustDir</th>\n",
              "      <th>WindGustSpeed</th>\n",
              "      <th>WindDir9am</th>\n",
              "      <th>...</th>\n",
              "      <th>Humidity9am</th>\n",
              "      <th>Humidity3pm</th>\n",
              "      <th>Pressure9am</th>\n",
              "      <th>Pressure3pm</th>\n",
              "      <th>Cloud9am</th>\n",
              "      <th>Cloud3pm</th>\n",
              "      <th>Temp9am</th>\n",
              "      <th>Temp3pm</th>\n",
              "      <th>RainToday</th>\n",
              "      <th>RainTomorrow</th>\n",
              "    </tr>\n",
              "  </thead>\n",
              "  <tbody>\n",
              "    <tr>\n",
              "      <th>0</th>\n",
              "      <td>2008-12-01</td>\n",
              "      <td>Albury</td>\n",
              "      <td>13.4</td>\n",
              "      <td>22.9</td>\n",
              "      <td>0.6</td>\n",
              "      <td>NaN</td>\n",
              "      <td>NaN</td>\n",
              "      <td>W</td>\n",
              "      <td>44.0</td>\n",
              "      <td>W</td>\n",
              "      <td>...</td>\n",
              "      <td>71.0</td>\n",
              "      <td>22.0</td>\n",
              "      <td>1007.7</td>\n",
              "      <td>1007.1</td>\n",
              "      <td>8.0</td>\n",
              "      <td>NaN</td>\n",
              "      <td>16.9</td>\n",
              "      <td>21.8</td>\n",
              "      <td>No</td>\n",
              "      <td>No</td>\n",
              "    </tr>\n",
              "    <tr>\n",
              "      <th>1</th>\n",
              "      <td>2008-12-02</td>\n",
              "      <td>Albury</td>\n",
              "      <td>7.4</td>\n",
              "      <td>25.1</td>\n",
              "      <td>0.0</td>\n",
              "      <td>NaN</td>\n",
              "      <td>NaN</td>\n",
              "      <td>WNW</td>\n",
              "      <td>44.0</td>\n",
              "      <td>NNW</td>\n",
              "      <td>...</td>\n",
              "      <td>44.0</td>\n",
              "      <td>25.0</td>\n",
              "      <td>1010.6</td>\n",
              "      <td>1007.8</td>\n",
              "      <td>NaN</td>\n",
              "      <td>NaN</td>\n",
              "      <td>17.2</td>\n",
              "      <td>24.3</td>\n",
              "      <td>No</td>\n",
              "      <td>No</td>\n",
              "    </tr>\n",
              "    <tr>\n",
              "      <th>2</th>\n",
              "      <td>2008-12-03</td>\n",
              "      <td>Albury</td>\n",
              "      <td>12.9</td>\n",
              "      <td>25.7</td>\n",
              "      <td>0.0</td>\n",
              "      <td>NaN</td>\n",
              "      <td>NaN</td>\n",
              "      <td>WSW</td>\n",
              "      <td>46.0</td>\n",
              "      <td>W</td>\n",
              "      <td>...</td>\n",
              "      <td>38.0</td>\n",
              "      <td>30.0</td>\n",
              "      <td>1007.6</td>\n",
              "      <td>1008.7</td>\n",
              "      <td>NaN</td>\n",
              "      <td>2.0</td>\n",
              "      <td>21.0</td>\n",
              "      <td>23.2</td>\n",
              "      <td>No</td>\n",
              "      <td>No</td>\n",
              "    </tr>\n",
              "    <tr>\n",
              "      <th>3</th>\n",
              "      <td>2008-12-04</td>\n",
              "      <td>Albury</td>\n",
              "      <td>9.2</td>\n",
              "      <td>28.0</td>\n",
              "      <td>0.0</td>\n",
              "      <td>NaN</td>\n",
              "      <td>NaN</td>\n",
              "      <td>NE</td>\n",
              "      <td>24.0</td>\n",
              "      <td>SE</td>\n",
              "      <td>...</td>\n",
              "      <td>45.0</td>\n",
              "      <td>16.0</td>\n",
              "      <td>1017.6</td>\n",
              "      <td>1012.8</td>\n",
              "      <td>NaN</td>\n",
              "      <td>NaN</td>\n",
              "      <td>18.1</td>\n",
              "      <td>26.5</td>\n",
              "      <td>No</td>\n",
              "      <td>No</td>\n",
              "    </tr>\n",
              "    <tr>\n",
              "      <th>4</th>\n",
              "      <td>2008-12-05</td>\n",
              "      <td>Albury</td>\n",
              "      <td>17.5</td>\n",
              "      <td>32.3</td>\n",
              "      <td>1.0</td>\n",
              "      <td>NaN</td>\n",
              "      <td>NaN</td>\n",
              "      <td>W</td>\n",
              "      <td>41.0</td>\n",
              "      <td>ENE</td>\n",
              "      <td>...</td>\n",
              "      <td>82.0</td>\n",
              "      <td>33.0</td>\n",
              "      <td>1010.8</td>\n",
              "      <td>1006.0</td>\n",
              "      <td>7.0</td>\n",
              "      <td>8.0</td>\n",
              "      <td>17.8</td>\n",
              "      <td>29.7</td>\n",
              "      <td>No</td>\n",
              "      <td>No</td>\n",
              "    </tr>\n",
              "  </tbody>\n",
              "</table>\n",
              "<p>5 rows × 23 columns</p>\n",
              "</div>\n",
              "      <button class=\"colab-df-convert\" onclick=\"convertToInteractive('df-65428c9c-b8d7-45ff-a6e9-d69fa2a44d8b')\"\n",
              "              title=\"Convert this dataframe to an interactive table.\"\n",
              "              style=\"display:none;\">\n",
              "        \n",
              "  <svg xmlns=\"http://www.w3.org/2000/svg\" height=\"24px\"viewBox=\"0 0 24 24\"\n",
              "       width=\"24px\">\n",
              "    <path d=\"M0 0h24v24H0V0z\" fill=\"none\"/>\n",
              "    <path d=\"M18.56 5.44l.94 2.06.94-2.06 2.06-.94-2.06-.94-.94-2.06-.94 2.06-2.06.94zm-11 1L8.5 8.5l.94-2.06 2.06-.94-2.06-.94L8.5 2.5l-.94 2.06-2.06.94zm10 10l.94 2.06.94-2.06 2.06-.94-2.06-.94-.94-2.06-.94 2.06-2.06.94z\"/><path d=\"M17.41 7.96l-1.37-1.37c-.4-.4-.92-.59-1.43-.59-.52 0-1.04.2-1.43.59L10.3 9.45l-7.72 7.72c-.78.78-.78 2.05 0 2.83L4 21.41c.39.39.9.59 1.41.59.51 0 1.02-.2 1.41-.59l7.78-7.78 2.81-2.81c.8-.78.8-2.07 0-2.86zM5.41 20L4 18.59l7.72-7.72 1.47 1.35L5.41 20z\"/>\n",
              "  </svg>\n",
              "      </button>\n",
              "      \n",
              "  <style>\n",
              "    .colab-df-container {\n",
              "      display:flex;\n",
              "      flex-wrap:wrap;\n",
              "      gap: 12px;\n",
              "    }\n",
              "\n",
              "    .colab-df-convert {\n",
              "      background-color: #E8F0FE;\n",
              "      border: none;\n",
              "      border-radius: 50%;\n",
              "      cursor: pointer;\n",
              "      display: none;\n",
              "      fill: #1967D2;\n",
              "      height: 32px;\n",
              "      padding: 0 0 0 0;\n",
              "      width: 32px;\n",
              "    }\n",
              "\n",
              "    .colab-df-convert:hover {\n",
              "      background-color: #E2EBFA;\n",
              "      box-shadow: 0px 1px 2px rgba(60, 64, 67, 0.3), 0px 1px 3px 1px rgba(60, 64, 67, 0.15);\n",
              "      fill: #174EA6;\n",
              "    }\n",
              "\n",
              "    [theme=dark] .colab-df-convert {\n",
              "      background-color: #3B4455;\n",
              "      fill: #D2E3FC;\n",
              "    }\n",
              "\n",
              "    [theme=dark] .colab-df-convert:hover {\n",
              "      background-color: #434B5C;\n",
              "      box-shadow: 0px 1px 3px 1px rgba(0, 0, 0, 0.15);\n",
              "      filter: drop-shadow(0px 1px 2px rgba(0, 0, 0, 0.3));\n",
              "      fill: #FFFFFF;\n",
              "    }\n",
              "  </style>\n",
              "\n",
              "      <script>\n",
              "        const buttonEl =\n",
              "          document.querySelector('#df-65428c9c-b8d7-45ff-a6e9-d69fa2a44d8b button.colab-df-convert');\n",
              "        buttonEl.style.display =\n",
              "          google.colab.kernel.accessAllowed ? 'block' : 'none';\n",
              "\n",
              "        async function convertToInteractive(key) {\n",
              "          const element = document.querySelector('#df-65428c9c-b8d7-45ff-a6e9-d69fa2a44d8b');\n",
              "          const dataTable =\n",
              "            await google.colab.kernel.invokeFunction('convertToInteractive',\n",
              "                                                     [key], {});\n",
              "          if (!dataTable) return;\n",
              "\n",
              "          const docLinkHtml = 'Like what you see? Visit the ' +\n",
              "            '<a target=\"_blank\" href=https://colab.research.google.com/notebooks/data_table.ipynb>data table notebook</a>'\n",
              "            + ' to learn more about interactive tables.';\n",
              "          element.innerHTML = '';\n",
              "          dataTable['output_type'] = 'display_data';\n",
              "          await google.colab.output.renderOutput(dataTable, element);\n",
              "          const docLink = document.createElement('div');\n",
              "          docLink.innerHTML = docLinkHtml;\n",
              "          element.appendChild(docLink);\n",
              "        }\n",
              "      </script>\n",
              "    </div>\n",
              "  </div>\n",
              "  "
            ]
          },
          "metadata": {},
          "execution_count": 32
        }
      ]
    },
    {
      "cell_type": "code",
      "source": [],
      "metadata": {
        "id": "x3XE3IVW1srx"
      },
      "execution_count": 32,
      "outputs": []
    },
    {
      "cell_type": "code",
      "source": [
        "df.RainTomorrow.value_counts()\n"
      ],
      "metadata": {
        "colab": {
          "base_uri": "https://localhost:8080/"
        },
        "id": "v5dZf9nhnKdt",
        "outputId": "6ef5df35-7eeb-425e-8c7a-f1483c41e8de"
      },
      "execution_count": 33,
      "outputs": [
        {
          "output_type": "execute_result",
          "data": {
            "text/plain": [
              "No     110316\n",
              "Yes     31877\n",
              "Name: RainTomorrow, dtype: int64"
            ]
          },
          "metadata": {},
          "execution_count": 33
        }
      ]
    },
    {
      "cell_type": "markdown",
      "source": [
        "The data set is unbalanced"
      ],
      "metadata": {
        "id": "KiRs1I5tzgIW"
      }
    },
    {
      "cell_type": "markdown",
      "source": [
        "Handling Null Values"
      ],
      "metadata": {
        "id": "rBLAUhmd9t-8"
      }
    },
    {
      "cell_type": "code",
      "source": [
        "num = train_df._get_numeric_data().columns\n",
        "cat = set(train_df.columns) - set(num)\n",
        "loc_for_miss = train_df[\"Location\"].unique().tolist()\n",
        "ls = []\n",
        "def removeNull(columns):\n",
        "  j=0\n",
        "  while j<=len(columns)-1:\n",
        "      for i in range(len(loc_for_miss)):    \n",
        "          ls.append(str(train_df.loc[df[\"Location\"] == loc_for_miss[i], columns[j]].median())) #great outliers so used median\n",
        "\n",
        "      for i in range(len(loc_for_miss)):\n",
        "          train_df.loc[train_df[\"Location\"] == loc_for_miss[i], columns[j]] = train_df.loc[df[\"Location\"] == loc_for_miss[i], columns[j]].fillna(ls[i])\n",
        "      j+=1\n",
        "      train_df[columns] = train_df[columns].astype(float)\n",
        "\n",
        "removeNull(num)"
      ],
      "metadata": {
        "id": "0D4ynWDE20Mu"
      },
      "execution_count": null,
      "outputs": []
    },
    {
      "cell_type": "code",
      "source": [
        "train_df.isna().sum()\n"
      ],
      "metadata": {
        "colab": {
          "base_uri": "https://localhost:8080/"
        },
        "id": "YuOIXmgTABM7",
        "outputId": "767d4e3f-277c-4a5d-8116-ed81af184234"
      },
      "execution_count": 35,
      "outputs": [
        {
          "output_type": "execute_result",
          "data": {
            "text/plain": [
              "Date                 0\n",
              "Location             0\n",
              "MinTemp              0\n",
              "MaxTemp              0\n",
              "Rainfall             0\n",
              "Evaporation          0\n",
              "Sunshine             0\n",
              "WindGustDir       9330\n",
              "WindGustSpeed        0\n",
              "WindDir9am       10013\n",
              "WindDir3pm        3778\n",
              "WindSpeed9am         0\n",
              "WindSpeed3pm         0\n",
              "Humidity9am          0\n",
              "Humidity3pm          0\n",
              "Pressure9am          0\n",
              "Pressure3pm          0\n",
              "Cloud9am             0\n",
              "Cloud3pm             0\n",
              "Temp9am              0\n",
              "Temp3pm              0\n",
              "RainToday         1406\n",
              "RainTomorrow         0\n",
              "dtype: int64"
            ]
          },
          "metadata": {},
          "execution_count": 35
        }
      ]
    },
    {
      "cell_type": "code",
      "source": [
        "# df.loc[df[\"Location\"] == 'Albury', \"MinTemp\"].isna().value_counts()"
      ],
      "metadata": {
        "id": "iboNp1NK_DNn"
      },
      "execution_count": 36,
      "outputs": []
    },
    {
      "cell_type": "code",
      "source": [
        "ls_WGD = []\n",
        "loc_for_miss = train_df[\"Location\"].unique()\n",
        "for j in range(len(loc_for_miss)):\n",
        "  df_allNanWGD = train_df.loc[train_df[\"Location\"]== loc_for_miss[j]]\n",
        "  if (df_allNanWGD[\"WindGustDir\"].isnull().all()):\n",
        "    ls_WGD.append(loc_for_miss[j])"
      ],
      "metadata": {
        "id": "1cxvV80LiBHm"
      },
      "execution_count": 37,
      "outputs": []
    },
    {
      "cell_type": "code",
      "source": [
        "ls_WGD"
      ],
      "metadata": {
        "colab": {
          "base_uri": "https://localhost:8080/"
        },
        "id": "SvIByKcYkjDy",
        "outputId": "4d74c079-ecc8-4afc-be63-847f708cab46"
      },
      "execution_count": 38,
      "outputs": [
        {
          "output_type": "execute_result",
          "data": {
            "text/plain": [
              "['Newcastle', 'Albany']"
            ]
          },
          "metadata": {},
          "execution_count": 38
        }
      ]
    },
    {
      "cell_type": "code",
      "source": [
        "train_df.loc[train_df[\"Location\"] == \"Newcastle\", \"WindGustDir\"] = \"W\"\n",
        "train_df.loc[train_df[\"Location\"] == \"Albany\", \"WindGustDir\"] = \"SW\""
      ],
      "metadata": {
        "id": "s9uAhcg0-nJi"
      },
      "execution_count": 39,
      "outputs": []
    },
    {
      "cell_type": "code",
      "source": [
        "# plt.scatter(train_df[(train_df[\"Location\"] == \"Woomera\")][\"WindGustDir\"], train_df[\"RainTomorrow\"])"
      ],
      "metadata": {
        "id": "3z1L0TAVDEH7"
      },
      "execution_count": 40,
      "outputs": []
    },
    {
      "cell_type": "code",
      "source": [
        "categorical = ['RainToday', 'WindDir9am', 'WindDir3pm', 'WindGustDir']\n",
        "loc_for_miss = ['Albury','BadgerysCreek', 'Cobar', 'CoffsHarbour', 'Moree','Newcastle','NorahHead','NorfolkIsland',\n",
        "                'Penrith','Richmond','Sydney','SydneyAirport','WaggaWagga','Williamtown','Wollongong','Canberra',\n",
        "                'Tuggeranong','MountGinini','Ballarat','Bendigo','Sale','MelbourneAirport','Melbourne','Mildura',\n",
        "                'Nhil','Portland','Watsonia','Dartmoor','Brisbane','Cairns','GoldCoast','Townsville','Adelaide',\n",
        "                'MountGambier','Nuriootpa','Woomera','Albany','Witchcliffe','PearceRAAF','PerthAirport','Perth',\n",
        "                'SalmonGums','Walpole','Hobart','Launceston','AliceSprings','Darwin','Katherine','Uluru']\n",
        "ls = []\n",
        "ls_allNAN = []\n",
        "def removeNull(columns):\n",
        "    for j in range(len(columns)):\n",
        "        ls = []\n",
        "        for i in range(len(loc_for_miss)): \n",
        "            ls.append(train_df.loc[train_df[\"Location\"] == loc_for_miss[i], columns[j]].mode()[0])\n",
        "        for i in range(len(loc_for_miss)):\n",
        "            train_df.loc[train_df[\"Location\"] == loc_for_miss[i], columns[j]] = train_df.loc[train_df[\"Location\"] == loc_for_miss[i], columns[j]].fillna(ls[i])\n",
        "        train_df[columns] = train_df[columns].astype(object)\n",
        "    \n",
        "removeNull(categorical)"
      ],
      "metadata": {
        "id": "jrQOGidOAwqH"
      },
      "execution_count": 41,
      "outputs": []
    },
    {
      "cell_type": "code",
      "source": [
        "train_df.isnull().sum()"
      ],
      "metadata": {
        "colab": {
          "base_uri": "https://localhost:8080/"
        },
        "id": "GQ6M_UydA5-S",
        "outputId": "271a622e-b6d0-4ab8-8ec9-2013f9c5a299"
      },
      "execution_count": 42,
      "outputs": [
        {
          "output_type": "execute_result",
          "data": {
            "text/plain": [
              "Date             0\n",
              "Location         0\n",
              "MinTemp          0\n",
              "MaxTemp          0\n",
              "Rainfall         0\n",
              "Evaporation      0\n",
              "Sunshine         0\n",
              "WindGustDir      0\n",
              "WindGustSpeed    0\n",
              "WindDir9am       0\n",
              "WindDir3pm       0\n",
              "WindSpeed9am     0\n",
              "WindSpeed3pm     0\n",
              "Humidity9am      0\n",
              "Humidity3pm      0\n",
              "Pressure9am      0\n",
              "Pressure3pm      0\n",
              "Cloud9am         0\n",
              "Cloud3pm         0\n",
              "Temp9am          0\n",
              "Temp3pm          0\n",
              "RainToday        0\n",
              "RainTomorrow     0\n",
              "dtype: int64"
            ]
          },
          "metadata": {},
          "execution_count": 42
        }
      ]
    },
    {
      "cell_type": "markdown",
      "source": [
        "###Feature Engineering"
      ],
      "metadata": {
        "id": "kGvUyRr5kk_C"
      }
    },
    {
      "cell_type": "code",
      "source": [
        "# df.isnull().sum()"
      ],
      "metadata": {
        "id": "e16HYWpklFDP"
      },
      "execution_count": 43,
      "outputs": []
    },
    {
      "cell_type": "code",
      "source": [
        "# df.shape"
      ],
      "metadata": {
        "id": "Pk9jvGeSl-Xh"
      },
      "execution_count": 44,
      "outputs": []
    },
    {
      "cell_type": "code",
      "source": [],
      "metadata": {
        "id": "r4-RoKwBmnsi"
      },
      "execution_count": 44,
      "outputs": []
    },
    {
      "cell_type": "code",
      "source": [
        "#Adding extra columns by splitting date column\n",
        "train_df['Year']=[d.split('-')[0] for d in train_df.Date]\n",
        "train_df['Year'].astype(float)\n",
        "train_df['Month']=[d.split('-')[1] for d in train_df.Date]\n",
        "train_df['Day']=[d.split('-')[2] for d in train_df.Date]\n",
        "train_df.drop(columns=[\"Date\"], axis=1, inplace=True)"
      ],
      "metadata": {
        "id": "lWhv70rukjOW"
      },
      "execution_count": 45,
      "outputs": []
    },
    {
      "cell_type": "code",
      "source": [
        "#performing labelEncoding on y i.e RainTommorrow\n",
        "le = LabelEncoder()\n",
        "train_df['RainTomorrow']= le.fit_transform(train_df['RainTomorrow'])\n",
        "train_df.RainTomorrow.value_counts()"
      ],
      "metadata": {
        "colab": {
          "base_uri": "https://localhost:8080/"
        },
        "id": "BSPuALlukwYT",
        "outputId": "80bbe573-53a3-4eb4-ffad-36155da3170c"
      },
      "execution_count": 46,
      "outputs": [
        {
          "output_type": "execute_result",
          "data": {
            "text/plain": [
              "0    110316\n",
              "1     31877\n",
              "Name: RainTomorrow, dtype: int64"
            ]
          },
          "metadata": {},
          "execution_count": 46
        }
      ]
    },
    {
      "cell_type": "code",
      "source": [
        "train_df_WindGustDir = pd.get_dummies(train_df[\"WindGustDir\"], prefix=\"1\")\n",
        "train_df_WindDir9am = pd.get_dummies(train_df[\"WindDir9am\"], prefix=\"2\")\n",
        "train_df_WindDir3pm = pd.get_dummies(train_df[\"WindDir3pm\"], prefix=\"3\")\n",
        "train_df_RainToday = pd.get_dummies(train_df[\"RainToday\"])\n",
        "train_location_ohe = pd.get_dummies(train_df[\"Location\"])\n",
        "train_df_new = pd.concat([train_df, train_df_WindGustDir, train_df_WindDir9am, train_df_WindDir3pm, train_df_RainToday, train_location_ohe], axis=1)\n",
        "train_df_new.drop(columns=[\"WindGustDir\", \"WindDir9am\", \"WindDir3pm\", \"RainToday\", \"Location\"], axis=1, inplace=True)"
      ],
      "metadata": {
        "id": "Cn-RZlyAkwQf"
      },
      "execution_count": 47,
      "outputs": []
    },
    {
      "cell_type": "code",
      "source": [
        "target = 'RainTomorrow'\n",
        "x_train_df = train_df_new.drop(\"RainTomorrow\", axis=1)\n",
        "predictors = x_train_df.columns.values.tolist()[:]"
      ],
      "metadata": {
        "id": "fzvudF00kwF0"
      },
      "execution_count": 48,
      "outputs": []
    },
    {
      "cell_type": "code",
      "source": [
        "train_df_new.head()"
      ],
      "metadata": {
        "colab": {
          "base_uri": "https://localhost:8080/",
          "height": 300
        },
        "id": "4y2_5kViL1yT",
        "outputId": "1b8493e7-1225-432d-b83e-72855beeb819"
      },
      "execution_count": 49,
      "outputs": [
        {
          "output_type": "execute_result",
          "data": {
            "text/plain": [
              "   MinTemp  MaxTemp  Rainfall  Evaporation  Sunshine  WindGustSpeed  \\\n",
              "0     13.4     22.9       0.6          9.1       9.1           44.0   \n",
              "1      7.4     25.1       0.0          9.1       9.1           44.0   \n",
              "2     12.9     25.7       0.0          9.1       9.1           46.0   \n",
              "3      9.2     28.0       0.0          9.1       9.1           24.0   \n",
              "4     17.5     32.3       1.0          9.1       9.1           41.0   \n",
              "\n",
              "   WindSpeed9am  WindSpeed3pm  Humidity9am  Humidity3pm  ...  Townsville  \\\n",
              "0          20.0          24.0         71.0         22.0  ...           0   \n",
              "1           4.0          22.0         44.0         25.0  ...           0   \n",
              "2          19.0          26.0         38.0         30.0  ...           0   \n",
              "3          11.0           9.0         45.0         16.0  ...           0   \n",
              "4           7.0          20.0         82.0         33.0  ...           0   \n",
              "\n",
              "   Tuggeranong  Uluru  WaggaWagga  Walpole  Watsonia  Williamtown Witchcliffe  \\\n",
              "0            0      0           0        0         0            0           0   \n",
              "1            0      0           0        0         0            0           0   \n",
              "2            0      0           0        0         0            0           0   \n",
              "3            0      0           0        0         0            0           0   \n",
              "4            0      0           0        0         0            0           0   \n",
              "\n",
              "  Wollongong Woomera  \n",
              "0          0       0  \n",
              "1          0       0  \n",
              "2          0       0  \n",
              "3          0       0  \n",
              "4          0       0  \n",
              "\n",
              "[5 rows x 119 columns]"
            ],
            "text/html": [
              "\n",
              "  <div id=\"df-1891a6ca-4d7c-43a5-94b5-492e9fd962fe\">\n",
              "    <div class=\"colab-df-container\">\n",
              "      <div>\n",
              "<style scoped>\n",
              "    .dataframe tbody tr th:only-of-type {\n",
              "        vertical-align: middle;\n",
              "    }\n",
              "\n",
              "    .dataframe tbody tr th {\n",
              "        vertical-align: top;\n",
              "    }\n",
              "\n",
              "    .dataframe thead th {\n",
              "        text-align: right;\n",
              "    }\n",
              "</style>\n",
              "<table border=\"1\" class=\"dataframe\">\n",
              "  <thead>\n",
              "    <tr style=\"text-align: right;\">\n",
              "      <th></th>\n",
              "      <th>MinTemp</th>\n",
              "      <th>MaxTemp</th>\n",
              "      <th>Rainfall</th>\n",
              "      <th>Evaporation</th>\n",
              "      <th>Sunshine</th>\n",
              "      <th>WindGustSpeed</th>\n",
              "      <th>WindSpeed9am</th>\n",
              "      <th>WindSpeed3pm</th>\n",
              "      <th>Humidity9am</th>\n",
              "      <th>Humidity3pm</th>\n",
              "      <th>...</th>\n",
              "      <th>Townsville</th>\n",
              "      <th>Tuggeranong</th>\n",
              "      <th>Uluru</th>\n",
              "      <th>WaggaWagga</th>\n",
              "      <th>Walpole</th>\n",
              "      <th>Watsonia</th>\n",
              "      <th>Williamtown</th>\n",
              "      <th>Witchcliffe</th>\n",
              "      <th>Wollongong</th>\n",
              "      <th>Woomera</th>\n",
              "    </tr>\n",
              "  </thead>\n",
              "  <tbody>\n",
              "    <tr>\n",
              "      <th>0</th>\n",
              "      <td>13.4</td>\n",
              "      <td>22.9</td>\n",
              "      <td>0.6</td>\n",
              "      <td>9.1</td>\n",
              "      <td>9.1</td>\n",
              "      <td>44.0</td>\n",
              "      <td>20.0</td>\n",
              "      <td>24.0</td>\n",
              "      <td>71.0</td>\n",
              "      <td>22.0</td>\n",
              "      <td>...</td>\n",
              "      <td>0</td>\n",
              "      <td>0</td>\n",
              "      <td>0</td>\n",
              "      <td>0</td>\n",
              "      <td>0</td>\n",
              "      <td>0</td>\n",
              "      <td>0</td>\n",
              "      <td>0</td>\n",
              "      <td>0</td>\n",
              "      <td>0</td>\n",
              "    </tr>\n",
              "    <tr>\n",
              "      <th>1</th>\n",
              "      <td>7.4</td>\n",
              "      <td>25.1</td>\n",
              "      <td>0.0</td>\n",
              "      <td>9.1</td>\n",
              "      <td>9.1</td>\n",
              "      <td>44.0</td>\n",
              "      <td>4.0</td>\n",
              "      <td>22.0</td>\n",
              "      <td>44.0</td>\n",
              "      <td>25.0</td>\n",
              "      <td>...</td>\n",
              "      <td>0</td>\n",
              "      <td>0</td>\n",
              "      <td>0</td>\n",
              "      <td>0</td>\n",
              "      <td>0</td>\n",
              "      <td>0</td>\n",
              "      <td>0</td>\n",
              "      <td>0</td>\n",
              "      <td>0</td>\n",
              "      <td>0</td>\n",
              "    </tr>\n",
              "    <tr>\n",
              "      <th>2</th>\n",
              "      <td>12.9</td>\n",
              "      <td>25.7</td>\n",
              "      <td>0.0</td>\n",
              "      <td>9.1</td>\n",
              "      <td>9.1</td>\n",
              "      <td>46.0</td>\n",
              "      <td>19.0</td>\n",
              "      <td>26.0</td>\n",
              "      <td>38.0</td>\n",
              "      <td>30.0</td>\n",
              "      <td>...</td>\n",
              "      <td>0</td>\n",
              "      <td>0</td>\n",
              "      <td>0</td>\n",
              "      <td>0</td>\n",
              "      <td>0</td>\n",
              "      <td>0</td>\n",
              "      <td>0</td>\n",
              "      <td>0</td>\n",
              "      <td>0</td>\n",
              "      <td>0</td>\n",
              "    </tr>\n",
              "    <tr>\n",
              "      <th>3</th>\n",
              "      <td>9.2</td>\n",
              "      <td>28.0</td>\n",
              "      <td>0.0</td>\n",
              "      <td>9.1</td>\n",
              "      <td>9.1</td>\n",
              "      <td>24.0</td>\n",
              "      <td>11.0</td>\n",
              "      <td>9.0</td>\n",
              "      <td>45.0</td>\n",
              "      <td>16.0</td>\n",
              "      <td>...</td>\n",
              "      <td>0</td>\n",
              "      <td>0</td>\n",
              "      <td>0</td>\n",
              "      <td>0</td>\n",
              "      <td>0</td>\n",
              "      <td>0</td>\n",
              "      <td>0</td>\n",
              "      <td>0</td>\n",
              "      <td>0</td>\n",
              "      <td>0</td>\n",
              "    </tr>\n",
              "    <tr>\n",
              "      <th>4</th>\n",
              "      <td>17.5</td>\n",
              "      <td>32.3</td>\n",
              "      <td>1.0</td>\n",
              "      <td>9.1</td>\n",
              "      <td>9.1</td>\n",
              "      <td>41.0</td>\n",
              "      <td>7.0</td>\n",
              "      <td>20.0</td>\n",
              "      <td>82.0</td>\n",
              "      <td>33.0</td>\n",
              "      <td>...</td>\n",
              "      <td>0</td>\n",
              "      <td>0</td>\n",
              "      <td>0</td>\n",
              "      <td>0</td>\n",
              "      <td>0</td>\n",
              "      <td>0</td>\n",
              "      <td>0</td>\n",
              "      <td>0</td>\n",
              "      <td>0</td>\n",
              "      <td>0</td>\n",
              "    </tr>\n",
              "  </tbody>\n",
              "</table>\n",
              "<p>5 rows × 119 columns</p>\n",
              "</div>\n",
              "      <button class=\"colab-df-convert\" onclick=\"convertToInteractive('df-1891a6ca-4d7c-43a5-94b5-492e9fd962fe')\"\n",
              "              title=\"Convert this dataframe to an interactive table.\"\n",
              "              style=\"display:none;\">\n",
              "        \n",
              "  <svg xmlns=\"http://www.w3.org/2000/svg\" height=\"24px\"viewBox=\"0 0 24 24\"\n",
              "       width=\"24px\">\n",
              "    <path d=\"M0 0h24v24H0V0z\" fill=\"none\"/>\n",
              "    <path d=\"M18.56 5.44l.94 2.06.94-2.06 2.06-.94-2.06-.94-.94-2.06-.94 2.06-2.06.94zm-11 1L8.5 8.5l.94-2.06 2.06-.94-2.06-.94L8.5 2.5l-.94 2.06-2.06.94zm10 10l.94 2.06.94-2.06 2.06-.94-2.06-.94-.94-2.06-.94 2.06-2.06.94z\"/><path d=\"M17.41 7.96l-1.37-1.37c-.4-.4-.92-.59-1.43-.59-.52 0-1.04.2-1.43.59L10.3 9.45l-7.72 7.72c-.78.78-.78 2.05 0 2.83L4 21.41c.39.39.9.59 1.41.59.51 0 1.02-.2 1.41-.59l7.78-7.78 2.81-2.81c.8-.78.8-2.07 0-2.86zM5.41 20L4 18.59l7.72-7.72 1.47 1.35L5.41 20z\"/>\n",
              "  </svg>\n",
              "      </button>\n",
              "      \n",
              "  <style>\n",
              "    .colab-df-container {\n",
              "      display:flex;\n",
              "      flex-wrap:wrap;\n",
              "      gap: 12px;\n",
              "    }\n",
              "\n",
              "    .colab-df-convert {\n",
              "      background-color: #E8F0FE;\n",
              "      border: none;\n",
              "      border-radius: 50%;\n",
              "      cursor: pointer;\n",
              "      display: none;\n",
              "      fill: #1967D2;\n",
              "      height: 32px;\n",
              "      padding: 0 0 0 0;\n",
              "      width: 32px;\n",
              "    }\n",
              "\n",
              "    .colab-df-convert:hover {\n",
              "      background-color: #E2EBFA;\n",
              "      box-shadow: 0px 1px 2px rgba(60, 64, 67, 0.3), 0px 1px 3px 1px rgba(60, 64, 67, 0.15);\n",
              "      fill: #174EA6;\n",
              "    }\n",
              "\n",
              "    [theme=dark] .colab-df-convert {\n",
              "      background-color: #3B4455;\n",
              "      fill: #D2E3FC;\n",
              "    }\n",
              "\n",
              "    [theme=dark] .colab-df-convert:hover {\n",
              "      background-color: #434B5C;\n",
              "      box-shadow: 0px 1px 3px 1px rgba(0, 0, 0, 0.15);\n",
              "      filter: drop-shadow(0px 1px 2px rgba(0, 0, 0, 0.3));\n",
              "      fill: #FFFFFF;\n",
              "    }\n",
              "  </style>\n",
              "\n",
              "      <script>\n",
              "        const buttonEl =\n",
              "          document.querySelector('#df-1891a6ca-4d7c-43a5-94b5-492e9fd962fe button.colab-df-convert');\n",
              "        buttonEl.style.display =\n",
              "          google.colab.kernel.accessAllowed ? 'block' : 'none';\n",
              "\n",
              "        async function convertToInteractive(key) {\n",
              "          const element = document.querySelector('#df-1891a6ca-4d7c-43a5-94b5-492e9fd962fe');\n",
              "          const dataTable =\n",
              "            await google.colab.kernel.invokeFunction('convertToInteractive',\n",
              "                                                     [key], {});\n",
              "          if (!dataTable) return;\n",
              "\n",
              "          const docLinkHtml = 'Like what you see? Visit the ' +\n",
              "            '<a target=\"_blank\" href=https://colab.research.google.com/notebooks/data_table.ipynb>data table notebook</a>'\n",
              "            + ' to learn more about interactive tables.';\n",
              "          element.innerHTML = '';\n",
              "          dataTable['output_type'] = 'display_data';\n",
              "          await google.colab.output.renderOutput(dataTable, element);\n",
              "          const docLink = document.createElement('div');\n",
              "          docLink.innerHTML = docLinkHtml;\n",
              "          element.appendChild(docLink);\n",
              "        }\n",
              "      </script>\n",
              "    </div>\n",
              "  </div>\n",
              "  "
            ]
          },
          "metadata": {},
          "execution_count": 49
        }
      ]
    },
    {
      "cell_type": "code",
      "source": [
        "# predictors\n",
        "train_df_new.columns.values"
      ],
      "metadata": {
        "colab": {
          "base_uri": "https://localhost:8080/"
        },
        "id": "ApcenaxELArE",
        "outputId": "02b039dd-ede2-44d9-b18f-452492576f0d"
      },
      "execution_count": 50,
      "outputs": [
        {
          "output_type": "execute_result",
          "data": {
            "text/plain": [
              "array(['MinTemp', 'MaxTemp', 'Rainfall', 'Evaporation', 'Sunshine',\n",
              "       'WindGustSpeed', 'WindSpeed9am', 'WindSpeed3pm', 'Humidity9am',\n",
              "       'Humidity3pm', 'Pressure9am', 'Pressure3pm', 'Cloud9am',\n",
              "       'Cloud3pm', 'Temp9am', 'Temp3pm', 'RainTomorrow', 'Year', 'Month',\n",
              "       'Day', '1_E', '1_ENE', '1_ESE', '1_N', '1_NE', '1_NNE', '1_NNW',\n",
              "       '1_NW', '1_S', '1_SE', '1_SSE', '1_SSW', '1_SW', '1_W', '1_WNW',\n",
              "       '1_WSW', '2_E', '2_ENE', '2_ESE', '2_N', '2_NE', '2_NNE', '2_NNW',\n",
              "       '2_NW', '2_S', '2_SE', '2_SSE', '2_SSW', '2_SW', '2_W', '2_WNW',\n",
              "       '2_WSW', '3_E', '3_ENE', '3_ESE', '3_N', '3_NE', '3_NNE', '3_NNW',\n",
              "       '3_NW', '3_S', '3_SE', '3_SSE', '3_SSW', '3_SW', '3_W', '3_WNW',\n",
              "       '3_WSW', 'No', 'Yes', 'Adelaide', 'Albany', 'Albury',\n",
              "       'AliceSprings', 'BadgerysCreek', 'Ballarat', 'Bendigo', 'Brisbane',\n",
              "       'Cairns', 'Canberra', 'Cobar', 'CoffsHarbour', 'Dartmoor',\n",
              "       'Darwin', 'GoldCoast', 'Hobart', 'Katherine', 'Launceston',\n",
              "       'Melbourne', 'MelbourneAirport', 'Mildura', 'Moree',\n",
              "       'MountGambier', 'MountGinini', 'Newcastle', 'Nhil', 'NorahHead',\n",
              "       'NorfolkIsland', 'Nuriootpa', 'PearceRAAF', 'Penrith', 'Perth',\n",
              "       'PerthAirport', 'Portland', 'Richmond', 'Sale', 'SalmonGums',\n",
              "       'Sydney', 'SydneyAirport', 'Townsville', 'Tuggeranong', 'Uluru',\n",
              "       'WaggaWagga', 'Walpole', 'Watsonia', 'Williamtown', 'Witchcliffe',\n",
              "       'Wollongong', 'Woomera'], dtype=object)"
            ]
          },
          "metadata": {},
          "execution_count": 50
        }
      ]
    },
    {
      "cell_type": "code",
      "source": [
        "bayesian_tr_index, bayesian_val_index  = list(StratifiedKFold(n_splits=2, shuffle=True, random_state=1).split(train_df_new, train_df_new.RainTomorrow.values))[0]"
      ],
      "metadata": {
        "id": "3btLtA2QozTZ"
      },
      "execution_count": 51,
      "outputs": []
    },
    {
      "cell_type": "markdown",
      "source": [
        "These bayesian_tr_index and bayesian_val_index indexes will be used for the bayesian optimization as training and validation index of training dataset."
      ],
      "metadata": {
        "id": "IqWq27zE1e7f"
      }
    },
    {
      "cell_type": "code",
      "source": [
        "bayesian_tr_index"
      ],
      "metadata": {
        "id": "_CfR3PVf1fQk",
        "colab": {
          "base_uri": "https://localhost:8080/"
        },
        "outputId": "59842591-6716-481b-ca75-9087316d90ab"
      },
      "execution_count": 52,
      "outputs": [
        {
          "output_type": "execute_result",
          "data": {
            "text/plain": [
              "array([     0,      3,      5, ..., 142189, 142191, 142192])"
            ]
          },
          "metadata": {},
          "execution_count": 52
        }
      ]
    },
    {
      "cell_type": "markdown",
      "source": [
        "Black box function to be optimized (LightGBM)"
      ],
      "metadata": {
        "id": "2kYv6vwDBSFW"
      }
    },
    {
      "cell_type": "code",
      "source": [
        "def LGB_bayesian(\n",
        "    num_leaves,  # int\n",
        "    min_data_in_leaf,  # int\n",
        "    learning_rate,\n",
        "    min_sum_hessian_in_leaf,    # int  \n",
        "    feature_fraction,\n",
        "    lambda_l1,\n",
        "    lambda_l2,\n",
        "    min_gain_to_split,\n",
        "    max_depth):\n",
        "    \n",
        "    # LightGBM expects next three parameters need to be integer. So we make them integer\n",
        "    num_leaves = int(num_leaves)\n",
        "    min_data_in_leaf = int(min_data_in_leaf)\n",
        "    max_depth = int(max_depth)\n",
        "\n",
        "    assert type(num_leaves) == int\n",
        "    assert type(min_data_in_leaf) == int\n",
        "    assert type(max_depth) == int\n",
        "\n",
        "    param = {\n",
        "        'num_leaves': num_leaves,\n",
        "        'max_bin': 63,\n",
        "        'min_data_in_leaf': min_data_in_leaf,\n",
        "        'learning_rate': learning_rate,\n",
        "        'min_sum_hessian_in_leaf': min_sum_hessian_in_leaf,\n",
        "        'bagging_fraction': 1.0,\n",
        "        'bagging_freq': 5,\n",
        "        'feature_fraction': feature_fraction,\n",
        "        'lambda_l1': lambda_l1,\n",
        "        'lambda_l2': lambda_l2,\n",
        "        'min_gain_to_split': min_gain_to_split,\n",
        "        'max_depth': max_depth,\n",
        "        'save_binary': True, \n",
        "        'seed': 1337,\n",
        "        'feature_fraction_seed': 1337,\n",
        "        'bagging_seed': 1337,\n",
        "        'drop_seed': 1337,\n",
        "        'data_random_seed': 1337,\n",
        "        'objective': 'binary',\n",
        "        'boosting_type': 'gbdt',\n",
        "        'verbose': 1,\n",
        "        'metric': 'auc',\n",
        "        'is_unbalance': True,\n",
        "        'boost_from_average': False,\n",
        "        'verbose':-1,   \n",
        "\n",
        "    }    \n",
        "    \n",
        "    \n",
        "    xg_train = lgb.Dataset(train_df_new.iloc[bayesian_tr_index][predictors].values,\n",
        "                           label=train_df_new.iloc[bayesian_tr_index][target].values,\n",
        "                           feature_name=predictors,\n",
        "                           free_raw_data = False\n",
        "                           )\n",
        "    xg_valid = lgb.Dataset(train_df_new.iloc[bayesian_val_index][predictors].values,\n",
        "                           label=train_df_new.iloc[bayesian_val_index][target].values,\n",
        "                           feature_name=predictors,\n",
        "                           free_raw_data = False\n",
        "                           )   \n",
        "\n",
        "    num_round = 5000\n",
        "    clf = lgb.train(param, xg_train, num_round, valid_sets = [xg_valid], verbose_eval=250, early_stopping_rounds = 50)\n",
        "    \n",
        "    predictions = clf.predict(train_df_new.iloc[bayesian_val_index][predictors].values, num_iteration=clf.best_iteration)   \n",
        "    \n",
        "    score = metrics.roc_auc_score(train_df_new.iloc[bayesian_val_index][target].values, predictions)\n",
        "    \n",
        "    return score"
      ],
      "metadata": {
        "id": "t9T7oPknsBbL"
      },
      "execution_count": 53,
      "outputs": []
    },
    {
      "cell_type": "markdown",
      "source": [
        "The above LGB_bayesian function will act as black box function for Bayesian optimization. I already defined the the trainng and validation dataset for LightGBM inside the LGB_bayesian function.\n",
        "\n",
        "The LGB_bayesian function takes values for num_leaves, min_data_in_leaf, learning_rate, min_sum_hessian_in_leaf, feature_fraction, lambda_l1, lambda_l2, min_gain_to_split, max_depth from Bayesian optimization framework. Keep in mind that num_leaves, min_data_in_leaf, and max_depth should be integer for LightGBM. But Bayesian Optimization sends continous vales to function. So I force them to be integer. I am only going to find optimal parameter values of them."
      ],
      "metadata": {
        "id": "-cnZoHDnFPac"
      }
    },
    {
      "cell_type": "code",
      "source": [
        "# Bounded region of parameter space\n",
        "bounds_LGB = {\n",
        "    'num_leaves': (5, 20), \n",
        "    'min_data_in_leaf': (5, 20),  \n",
        "    'learning_rate': (0.01, 0.3),\n",
        "    'min_sum_hessian_in_leaf': (0.00001, 0.01),    \n",
        "    'feature_fraction': (0.05, 0.5),\n",
        "    'lambda_l1': (0, 5.0), \n",
        "    'lambda_l2': (0, 5.0), \n",
        "    'min_gain_to_split': (0, 1.0),\n",
        "    'max_depth':(3,15),\n",
        "}"
      ],
      "metadata": {
        "id": "Pw737K_DE-su"
      },
      "execution_count": 54,
      "outputs": []
    },
    {
      "cell_type": "markdown",
      "source": [
        "Let's put all of them in BayesianOptimization object"
      ],
      "metadata": {
        "id": "CmD9__MkFW7f"
      }
    },
    {
      "cell_type": "code",
      "source": [
        "from bayes_opt import BayesianOptimization"
      ],
      "metadata": {
        "id": "MujjuyDmFT7M"
      },
      "execution_count": 55,
      "outputs": []
    },
    {
      "cell_type": "code",
      "source": [
        "LGB_BO = BayesianOptimization(LGB_bayesian, bounds_LGB, random_state=13)"
      ],
      "metadata": {
        "id": "ZK36tcR4Fdgb"
      },
      "execution_count": 56,
      "outputs": []
    },
    {
      "cell_type": "markdown",
      "source": [
        "Now, let's the the key space (parameters) we are going to optimize:"
      ],
      "metadata": {
        "id": "4q7mfbWyFmyy"
      }
    },
    {
      "cell_type": "code",
      "source": [
        "print(LGB_BO.space.keys)"
      ],
      "metadata": {
        "colab": {
          "base_uri": "https://localhost:8080/"
        },
        "id": "cGEgeaS7FlXT",
        "outputId": "c92cde84-3e28-4546-a5d2-2e57454da567"
      },
      "execution_count": 57,
      "outputs": [
        {
          "output_type": "stream",
          "name": "stdout",
          "text": [
            "['feature_fraction', 'lambda_l1', 'lambda_l2', 'learning_rate', 'max_depth', 'min_data_in_leaf', 'min_gain_to_split', 'min_sum_hessian_in_leaf', 'num_leaves']\n"
          ]
        }
      ]
    },
    {
      "cell_type": "markdown",
      "source": [
        "I have created the BayesianOptimization object (LGB_BO), it will not work until I call maximize. Before calling it, I want to explain two parameters of BayesianOptimization object (LGB_BO) which we can pass to maximize:\n",
        "\n",
        "init_points: How many initial random runs of random exploration we want to perform. In our case LGB_bayesian will be called n_iter times.\n",
        "n_iter: How many runs of bayesian optimization we want to perform after number of init_points runs.\n",
        "Now, it's time to call the function from Bayesian optimization framework to maximize. I allow LGB_BO object to run for 5 init_points (exploration) and 5 n_iter (exploitation)."
      ],
      "metadata": {
        "id": "Ay_HGUDQJaj_"
      }
    },
    {
      "cell_type": "code",
      "source": [
        "init_points = 5\n",
        "n_iter = 5"
      ],
      "metadata": {
        "id": "yY8JyIIXFq4K"
      },
      "execution_count": 58,
      "outputs": []
    },
    {
      "cell_type": "code",
      "source": [
        "print('-' * 130)\n",
        "\n",
        "with warnings.catch_warnings():\n",
        "    warnings.filterwarnings('ignore')\n",
        "    LGB_BO.maximize(init_points=init_points, n_iter=n_iter)"
      ],
      "metadata": {
        "colab": {
          "base_uri": "https://localhost:8080/"
        },
        "id": "uYFYnU9bJfEc",
        "outputId": "51d65fe6-ba6d-41f5-bc74-c808a3ee895d"
      },
      "execution_count": 59,
      "outputs": [
        {
          "output_type": "stream",
          "name": "stdout",
          "text": [
            "----------------------------------------------------------------------------------------------------------------------------------\n",
            "|   iter    |  target   | featur... | lambda_l1 | lambda_l2 | learni... | max_depth | min_da... | min_ga... | min_su... | num_le... |\n",
            "-------------------------------------------------------------------------------------------------------------------------------------\n",
            "Training until validation scores don't improve for 50 rounds\n",
            "[250]\tvalid_0's auc: 0.89037\n",
            "Early stopping, best iteration is:\n",
            "[387]\tvalid_0's auc: 0.890997\n",
            "| \u001b[0m1        \u001b[0m | \u001b[0m0.891    \u001b[0m | \u001b[0m0.4      \u001b[0m | \u001b[0m1.188    \u001b[0m | \u001b[0m4.121    \u001b[0m | \u001b[0m0.2901   \u001b[0m | \u001b[0m14.67    \u001b[0m | \u001b[0m11.8     \u001b[0m | \u001b[0m0.609    \u001b[0m | \u001b[0m0.007758 \u001b[0m | \u001b[0m14.62    \u001b[0m |\n",
            "Training until validation scores don't improve for 50 rounds\n",
            "[250]\tvalid_0's auc: 0.869954\n",
            "[500]\tvalid_0's auc: 0.879415\n",
            "[750]\tvalid_0's auc: 0.883873\n",
            "[1000]\tvalid_0's auc: 0.88656\n",
            "[1250]\tvalid_0's auc: 0.888366\n",
            "[1500]\tvalid_0's auc: 0.889726\n",
            "[1750]\tvalid_0's auc: 0.89068\n",
            "[2000]\tvalid_0's auc: 0.891557\n",
            "[2250]\tvalid_0's auc: 0.892182\n",
            "[2500]\tvalid_0's auc: 0.892749\n",
            "[2750]\tvalid_0's auc: 0.893166\n",
            "[3000]\tvalid_0's auc: 0.893615\n",
            "[3250]\tvalid_0's auc: 0.894009\n",
            "[3500]\tvalid_0's auc: 0.894323\n",
            "[3750]\tvalid_0's auc: 0.894544\n",
            "[4000]\tvalid_0's auc: 0.894765\n",
            "Early stopping, best iteration is:\n",
            "[4108]\tvalid_0's auc: 0.894797\n",
            "| \u001b[95m2        \u001b[0m | \u001b[95m0.8948   \u001b[0m | \u001b[95m0.3749   \u001b[0m | \u001b[95m0.1752   \u001b[0m | \u001b[95m1.492    \u001b[0m | \u001b[95m0.02697  \u001b[0m | \u001b[95m13.28    \u001b[0m | \u001b[95m10.59    \u001b[0m | \u001b[95m0.6798   \u001b[0m | \u001b[95m0.00257  \u001b[0m | \u001b[95m10.21    \u001b[0m |\n",
            "Training until validation scores don't improve for 50 rounds\n",
            "[250]\tvalid_0's auc: 0.8625\n",
            "[500]\tvalid_0's auc: 0.876223\n",
            "[750]\tvalid_0's auc: 0.881886\n",
            "[1000]\tvalid_0's auc: 0.884547\n",
            "[1250]\tvalid_0's auc: 0.886717\n",
            "[1500]\tvalid_0's auc: 0.887779\n",
            "[1750]\tvalid_0's auc: 0.888611\n",
            "[2000]\tvalid_0's auc: 0.889107\n",
            "Early stopping, best iteration is:\n",
            "[2180]\tvalid_0's auc: 0.889571\n",
            "| \u001b[0m3        \u001b[0m | \u001b[0m0.8896   \u001b[0m | \u001b[0m0.05424  \u001b[0m | \u001b[0m1.792    \u001b[0m | \u001b[0m4.745    \u001b[0m | \u001b[0m0.07319  \u001b[0m | \u001b[0m6.833    \u001b[0m | \u001b[0m18.77    \u001b[0m | \u001b[0m0.0319   \u001b[0m | \u001b[0m0.0006602\u001b[0m | \u001b[0m14.45    \u001b[0m |\n",
            "Training until validation scores don't improve for 50 rounds\n",
            "[250]\tvalid_0's auc: 0.888488\n",
            "[500]\tvalid_0's auc: 0.891865\n",
            "Early stopping, best iteration is:\n",
            "[584]\tvalid_0's auc: 0.892105\n",
            "| \u001b[0m4        \u001b[0m | \u001b[0m0.8921   \u001b[0m | \u001b[0m0.4432   \u001b[0m | \u001b[0m0.04358  \u001b[0m | \u001b[0m3.733    \u001b[0m | \u001b[0m0.2457   \u001b[0m | \u001b[0m3.909    \u001b[0m | \u001b[0m14.85    \u001b[0m | \u001b[0m0.5093   \u001b[0m | \u001b[0m0.004804 \u001b[0m | \u001b[0m19.33    \u001b[0m |\n",
            "Training until validation scores don't improve for 50 rounds\n",
            "[250]\tvalid_0's auc: 0.867159\n",
            "[500]\tvalid_0's auc: 0.878237\n",
            "[750]\tvalid_0's auc: 0.882322\n",
            "[1000]\tvalid_0's auc: 0.883873\n",
            "[1250]\tvalid_0's auc: 0.884564\n",
            "[1500]\tvalid_0's auc: 0.884886\n",
            "Early stopping, best iteration is:\n",
            "[1605]\tvalid_0's auc: 0.885044\n",
            "| \u001b[0m5        \u001b[0m | \u001b[0m0.885    \u001b[0m | \u001b[0m0.05001  \u001b[0m | \u001b[0m1.235    \u001b[0m | \u001b[0m3.561    \u001b[0m | \u001b[0m0.1041   \u001b[0m | \u001b[0m6.324    \u001b[0m | \u001b[0m15.43    \u001b[0m | \u001b[0m0.9186   \u001b[0m | \u001b[0m0.002452 \u001b[0m | \u001b[0m11.87    \u001b[0m |\n",
            "Training until validation scores don't improve for 50 rounds\n",
            "[250]\tvalid_0's auc: 0.885912\n",
            "[500]\tvalid_0's auc: 0.891273\n",
            "[750]\tvalid_0's auc: 0.893143\n",
            "Early stopping, best iteration is:\n",
            "[943]\tvalid_0's auc: 0.89402\n",
            "| \u001b[0m6        \u001b[0m | \u001b[0m0.894    \u001b[0m | \u001b[0m0.2438   \u001b[0m | \u001b[0m1.626    \u001b[0m | \u001b[0m1.805    \u001b[0m | \u001b[0m0.139    \u001b[0m | \u001b[0m15.0     \u001b[0m | \u001b[0m9.968    \u001b[0m | \u001b[0m0.3533   \u001b[0m | \u001b[0m0.01     \u001b[0m | \u001b[0m9.316    \u001b[0m |\n",
            "Training until validation scores don't improve for 50 rounds\n",
            "[250]\tvalid_0's auc: 0.856261\n",
            "[500]\tvalid_0's auc: 0.865183\n",
            "[750]\tvalid_0's auc: 0.870908\n",
            "[1000]\tvalid_0's auc: 0.874847\n",
            "[1250]\tvalid_0's auc: 0.877537\n",
            "[1500]\tvalid_0's auc: 0.879478\n",
            "[1750]\tvalid_0's auc: 0.880954\n",
            "[2000]\tvalid_0's auc: 0.882244\n",
            "[2250]\tvalid_0's auc: 0.883456\n",
            "[2500]\tvalid_0's auc: 0.88454\n",
            "[2750]\tvalid_0's auc: 0.885476\n",
            "[3000]\tvalid_0's auc: 0.886262\n",
            "[3250]\tvalid_0's auc: 0.886877\n",
            "[3500]\tvalid_0's auc: 0.887477\n",
            "[3750]\tvalid_0's auc: 0.888103\n",
            "[4000]\tvalid_0's auc: 0.888591\n",
            "[4250]\tvalid_0's auc: 0.88907\n",
            "[4500]\tvalid_0's auc: 0.889453\n",
            "[4750]\tvalid_0's auc: 0.889833\n",
            "[5000]\tvalid_0's auc: 0.890164\n",
            "Did not meet early stopping. Best iteration is:\n",
            "[5000]\tvalid_0's auc: 0.890164\n",
            "| \u001b[0m7        \u001b[0m | \u001b[0m0.8902   \u001b[0m | \u001b[0m0.5      \u001b[0m | \u001b[0m0.0      \u001b[0m | \u001b[0m0.0      \u001b[0m | \u001b[0m0.01     \u001b[0m | \u001b[0m12.65    \u001b[0m | \u001b[0m6.956    \u001b[0m | \u001b[0m1.0      \u001b[0m | \u001b[0m1e-05    \u001b[0m | \u001b[0m9.329    \u001b[0m |\n",
            "Training until validation scores don't improve for 50 rounds\n",
            "[250]\tvalid_0's auc: 0.85629\n",
            "[500]\tvalid_0's auc: 0.865053\n",
            "[750]\tvalid_0's auc: 0.870662\n",
            "[1000]\tvalid_0's auc: 0.87468\n",
            "[1250]\tvalid_0's auc: 0.877565\n",
            "[1500]\tvalid_0's auc: 0.879576\n",
            "[1750]\tvalid_0's auc: 0.881052\n",
            "[2000]\tvalid_0's auc: 0.882453\n",
            "[2250]\tvalid_0's auc: 0.88377\n",
            "[2500]\tvalid_0's auc: 0.884711\n",
            "[2750]\tvalid_0's auc: 0.885632\n",
            "[3000]\tvalid_0's auc: 0.886425\n",
            "[3250]\tvalid_0's auc: 0.8871\n",
            "[3500]\tvalid_0's auc: 0.887721\n",
            "[3750]\tvalid_0's auc: 0.888248\n",
            "[4000]\tvalid_0's auc: 0.888808\n",
            "[4250]\tvalid_0's auc: 0.889302\n",
            "[4500]\tvalid_0's auc: 0.889766\n",
            "[4750]\tvalid_0's auc: 0.89017\n",
            "[5000]\tvalid_0's auc: 0.890524\n",
            "Did not meet early stopping. Best iteration is:\n",
            "[5000]\tvalid_0's auc: 0.890524\n",
            "| \u001b[0m8        \u001b[0m | \u001b[0m0.8905   \u001b[0m | \u001b[0m0.4646   \u001b[0m | \u001b[0m0.0      \u001b[0m | \u001b[0m0.7898   \u001b[0m | \u001b[0m0.01     \u001b[0m | \u001b[0m15.0     \u001b[0m | \u001b[0m12.94    \u001b[0m | \u001b[0m0.4321   \u001b[0m | \u001b[0m0.001294 \u001b[0m | \u001b[0m9.325    \u001b[0m |\n",
            "Training until validation scores don't improve for 50 rounds\n",
            "[250]\tvalid_0's auc: 0.86043\n",
            "[500]\tvalid_0's auc: 0.871994\n",
            "[750]\tvalid_0's auc: 0.877965\n",
            "[1000]\tvalid_0's auc: 0.88075\n",
            "[1250]\tvalid_0's auc: 0.88297\n",
            "[1500]\tvalid_0's auc: 0.884094\n",
            "[1750]\tvalid_0's auc: 0.885052\n",
            "[2000]\tvalid_0's auc: 0.885773\n",
            "[2250]\tvalid_0's auc: 0.886356\n",
            "[2500]\tvalid_0's auc: 0.886726\n",
            "[2750]\tvalid_0's auc: 0.887063\n",
            "[3000]\tvalid_0's auc: 0.887323\n",
            "[3250]\tvalid_0's auc: 0.887626\n",
            "[3500]\tvalid_0's auc: 0.887824\n",
            "[3750]\tvalid_0's auc: 0.887974\n",
            "[4000]\tvalid_0's auc: 0.88808\n",
            "[4250]\tvalid_0's auc: 0.888168\n",
            "Early stopping, best iteration is:\n",
            "[4237]\tvalid_0's auc: 0.888169\n",
            "| \u001b[0m9        \u001b[0m | \u001b[0m0.8882   \u001b[0m | \u001b[0m0.06011  \u001b[0m | \u001b[0m1.2      \u001b[0m | \u001b[0m3.512    \u001b[0m | \u001b[0m0.04829  \u001b[0m | \u001b[0m13.05    \u001b[0m | \u001b[0m10.05    \u001b[0m | \u001b[0m0.4022   \u001b[0m | \u001b[0m0.01     \u001b[0m | \u001b[0m10.12    \u001b[0m |\n",
            "Training until validation scores don't improve for 50 rounds\n",
            "[250]\tvalid_0's auc: 0.868781\n",
            "[500]\tvalid_0's auc: 0.878229\n",
            "[750]\tvalid_0's auc: 0.883061\n",
            "[1000]\tvalid_0's auc: 0.885852\n",
            "[1250]\tvalid_0's auc: 0.887734\n",
            "[1500]\tvalid_0's auc: 0.88914\n",
            "[1750]\tvalid_0's auc: 0.890233\n",
            "[2000]\tvalid_0's auc: 0.891163\n",
            "[2250]\tvalid_0's auc: 0.891907\n",
            "[2500]\tvalid_0's auc: 0.892563\n",
            "[2750]\tvalid_0's auc: 0.893033\n",
            "[3000]\tvalid_0's auc: 0.893396\n",
            "[3250]\tvalid_0's auc: 0.893802\n",
            "[3500]\tvalid_0's auc: 0.894132\n",
            "[3750]\tvalid_0's auc: 0.894445\n",
            "[4000]\tvalid_0's auc: 0.894646\n",
            "[4250]\tvalid_0's auc: 0.89482\n",
            "[4500]\tvalid_0's auc: 0.895025\n",
            "[4750]\tvalid_0's auc: 0.895162\n",
            "[5000]\tvalid_0's auc: 0.89525\n",
            "Did not meet early stopping. Best iteration is:\n",
            "[4996]\tvalid_0's auc: 0.895252\n",
            "| \u001b[95m10       \u001b[0m | \u001b[95m0.8953   \u001b[0m | \u001b[95m0.3139   \u001b[0m | \u001b[95m4.592    \u001b[0m | \u001b[95m3.02     \u001b[0m | \u001b[95m0.04675  \u001b[0m | \u001b[95m10.02    \u001b[0m | \u001b[95m19.98    \u001b[0m | \u001b[95m0.1905   \u001b[0m | \u001b[95m0.0002304\u001b[0m | \u001b[95m6.572    \u001b[0m |\n",
            "=====================================================================================================================================\n"
          ]
        }
      ]
    },
    {
      "cell_type": "markdown",
      "source": [
        "As the optimization is done, let's see what is the maximum value we have got.\n"
      ],
      "metadata": {
        "id": "E8BGisr91CTv"
      }
    },
    {
      "cell_type": "code",
      "source": [
        "LGB_BO.max['target']"
      ],
      "metadata": {
        "colab": {
          "base_uri": "https://localhost:8080/"
        },
        "id": "pcAqb69CJi9b",
        "outputId": "43643045-a4dd-43e1-ccf8-368c759ac176"
      },
      "execution_count": 60,
      "outputs": [
        {
          "output_type": "execute_result",
          "data": {
            "text/plain": [
              "0.8952502265443587"
            ]
          },
          "metadata": {},
          "execution_count": 60
        }
      ]
    },
    {
      "cell_type": "code",
      "source": [
        "LGB_BO.max['params']"
      ],
      "metadata": {
        "colab": {
          "base_uri": "https://localhost:8080/"
        },
        "id": "sbQ6p5eo0-t_",
        "outputId": "fbdc3e42-2fa1-4dc8-88f2-729e9c2a0b0b"
      },
      "execution_count": 61,
      "outputs": [
        {
          "output_type": "execute_result",
          "data": {
            "text/plain": [
              "{'feature_fraction': 0.31393193317588663,\n",
              " 'lambda_l1': 4.592234475725691,\n",
              " 'lambda_l2': 3.019797930443967,\n",
              " 'learning_rate': 0.04675496484634876,\n",
              " 'max_depth': 10.019480917103467,\n",
              " 'min_data_in_leaf': 19.984789783155488,\n",
              " 'min_gain_to_split': 0.19046835383531202,\n",
              " 'min_sum_hessian_in_leaf': 0.00023038709571279175,\n",
              " 'num_leaves': 6.571637296909833}"
            ]
          },
          "metadata": {},
          "execution_count": 61
        }
      ]
    },
    {
      "cell_type": "markdown",
      "source": [
        "###Train the model"
      ],
      "metadata": {
        "id": "5M6S6f83I2Sg"
      }
    },
    {
      "cell_type": "markdown",
      "source": [
        "Using the parameters that we got above, we train the model"
      ],
      "metadata": {
        "id": "rkB-ShPDI7WY"
      }
    },
    {
      "cell_type": "code",
      "source": [
        "param_lgb = {\n",
        "        'num_leaves': int(LGB_BO.max['params']['num_leaves']), # remember to int here\n",
        "        'max_bin': 63,\n",
        "        'min_data_in_leaf': int(LGB_BO.max['params']['min_data_in_leaf']), # remember to int here\n",
        "        'learning_rate': LGB_BO.max['params']['learning_rate'],\n",
        "        'min_sum_hessian_in_leaf': LGB_BO.max['params']['min_sum_hessian_in_leaf'],\n",
        "        'bagging_fraction': 1.0, \n",
        "        'bagging_freq': 5, \n",
        "        'feature_fraction': LGB_BO.max['params']['feature_fraction'],\n",
        "        'lambda_l1': LGB_BO.max['params']['lambda_l1'],\n",
        "        'lambda_l2': LGB_BO.max['params']['lambda_l2'],\n",
        "        'min_gain_to_split': LGB_BO.max['params']['min_gain_to_split'],\n",
        "        'max_depth': int(LGB_BO.max['params']['max_depth']), # remember to int here\n",
        "        'save_binary': True,\n",
        "        'seed': 1337,\n",
        "        'feature_fraction_seed': 1337,\n",
        "        'bagging_seed': 1337,\n",
        "        'drop_seed': 1337,\n",
        "        'data_random_seed': 1337,\n",
        "        'objective': 'binary',\n",
        "        'boosting_type': 'gbdt',\n",
        "        'verbose': 1,\n",
        "        'metric': 'auc',\n",
        "        'is_unbalance': True,\n",
        "        'boost_from_average': False,\n",
        "        'verbose':-1, \n",
        "    }"
      ],
      "metadata": {
        "id": "OM45xu3A3CN2"
      },
      "execution_count": 69,
      "outputs": []
    },
    {
      "cell_type": "code",
      "source": [
        "# param_lgb['num_leaves']"
      ],
      "metadata": {
        "id": "zQ-rAuCEResU"
      },
      "execution_count": 73,
      "outputs": []
    },
    {
      "cell_type": "code",
      "source": [
        "#10 k folds\n",
        "nfold = 10\n",
        "\n",
        "skf = StratifiedKFold(n_splits=nfold, shuffle=True, random_state=2019)\n",
        "\n",
        "oof = np.zeros(len(train_df))\n",
        "# predictions = np.zeros(len(test_df))\n",
        "\n",
        "i = 1\n",
        "for train_index, valid_index in skf.split(train_df_new, train_df.RainTomorrow.values):\n",
        "    print(\"\\nfold {}\".format(i))\n",
        "    xg_train = lgb.Dataset(train_df_new.iloc[train_index][predictors].values,\n",
        "                           label=train_df_new.iloc[train_index][target].values,\n",
        "                           feature_name=predictors,\n",
        "                           free_raw_data = False\n",
        "                           )\n",
        "    xg_valid = lgb.Dataset(train_df_new.iloc[valid_index][predictors].values,\n",
        "                           label=train_df_new.iloc[valid_index][target].values,\n",
        "                           feature_name=predictors,\n",
        "                           free_raw_data = False\n",
        "                           )   \n",
        "\n",
        "    nround = 8523\n",
        "    clf = lgb.train(param_lgb, xg_train, nround, valid_sets = [xg_valid], verbose_eval=250)\n",
        "    oof[valid_index] = clf.predict(train_df_new.iloc[valid_index][predictors].values, num_iteration=nround) \n",
        "    \n",
        "    # predictions += clf.predict(test_df[predictors], num_iteration=nround) / nfold\n",
        "    i = i + 1\n",
        "\n",
        "print(\"\\n\\nCV AUC: {:<0.4f}\".format(metrics.roc_auc_score(train_df_new.RainTomorrow.values, oof)))"
      ],
      "metadata": {
        "colab": {
          "base_uri": "https://localhost:8080/"
        },
        "id": "jYnooyyRJPK8",
        "outputId": "a6e23102-4483-4e78-b49e-7c59927b1cec"
      },
      "execution_count": 71,
      "outputs": [
        {
          "metadata": {
            "tags": null
          },
          "name": "stdout",
          "output_type": "stream",
          "text": [
            "\n",
            "fold 1\n"
          ]
        },
        {
          "metadata": {
            "tags": null
          },
          "name": "stderr",
          "output_type": "stream",
          "text": [
            "/usr/local/lib/python3.10/dist-packages/lightgbm/engine.py:239: UserWarning: 'verbose_eval' argument is deprecated and will be removed in a future release of LightGBM. Pass 'log_evaluation()' callback via 'callbacks' argument instead.\n",
            "  _log_warning(\"'verbose_eval' argument is deprecated and will be removed in a future release of LightGBM. \"\n"
          ]
        },
        {
          "metadata": {
            "tags": null
          },
          "name": "stdout",
          "output_type": "stream",
          "text": [
            "[250]\tvalid_0's auc: 0.867867\n",
            "[500]\tvalid_0's auc: 0.877529\n",
            "[750]\tvalid_0's auc: 0.882494\n",
            "[1000]\tvalid_0's auc: 0.885713\n",
            "[1250]\tvalid_0's auc: 0.887994\n",
            "[1500]\tvalid_0's auc: 0.889769\n",
            "[1750]\tvalid_0's auc: 0.891267\n",
            "[2000]\tvalid_0's auc: 0.89223\n",
            "[2250]\tvalid_0's auc: 0.893142\n",
            "[2500]\tvalid_0's auc: 0.893788\n",
            "[2750]\tvalid_0's auc: 0.89445\n",
            "[3000]\tvalid_0's auc: 0.895247\n",
            "[3250]\tvalid_0's auc: 0.895668\n",
            "[3500]\tvalid_0's auc: 0.89623\n",
            "[3750]\tvalid_0's auc: 0.896606\n",
            "[4000]\tvalid_0's auc: 0.896921\n",
            "[4250]\tvalid_0's auc: 0.897245\n",
            "[4500]\tvalid_0's auc: 0.897503\n",
            "[4750]\tvalid_0's auc: 0.897837\n",
            "[5000]\tvalid_0's auc: 0.898038\n",
            "[5250]\tvalid_0's auc: 0.898203\n",
            "[5500]\tvalid_0's auc: 0.898434\n",
            "[5750]\tvalid_0's auc: 0.89868\n",
            "[6000]\tvalid_0's auc: 0.898842\n",
            "[6250]\tvalid_0's auc: 0.899006\n",
            "[6500]\tvalid_0's auc: 0.899201\n",
            "[6750]\tvalid_0's auc: 0.899282\n",
            "[7000]\tvalid_0's auc: 0.899301\n",
            "[7250]\tvalid_0's auc: 0.899301\n",
            "[7500]\tvalid_0's auc: 0.899301\n",
            "[7750]\tvalid_0's auc: 0.899301\n",
            "[8000]\tvalid_0's auc: 0.899301\n",
            "[8250]\tvalid_0's auc: 0.899301\n",
            "[8500]\tvalid_0's auc: 0.899301\n",
            "\n",
            "fold 2\n"
          ]
        },
        {
          "metadata": {
            "tags": null
          },
          "name": "stderr",
          "output_type": "stream",
          "text": [
            "/usr/local/lib/python3.10/dist-packages/lightgbm/engine.py:239: UserWarning: 'verbose_eval' argument is deprecated and will be removed in a future release of LightGBM. Pass 'log_evaluation()' callback via 'callbacks' argument instead.\n",
            "  _log_warning(\"'verbose_eval' argument is deprecated and will be removed in a future release of LightGBM. \"\n"
          ]
        },
        {
          "metadata": {
            "tags": null
          },
          "name": "stdout",
          "output_type": "stream",
          "text": [
            "[250]\tvalid_0's auc: 0.868368\n",
            "[500]\tvalid_0's auc: 0.877162\n",
            "[750]\tvalid_0's auc: 0.881697\n",
            "[1000]\tvalid_0's auc: 0.884771\n",
            "[1250]\tvalid_0's auc: 0.887124\n",
            "[1500]\tvalid_0's auc: 0.888872\n",
            "[1750]\tvalid_0's auc: 0.890199\n",
            "[2000]\tvalid_0's auc: 0.891126\n",
            "[2250]\tvalid_0's auc: 0.892045\n",
            "[2500]\tvalid_0's auc: 0.892902\n",
            "[2750]\tvalid_0's auc: 0.893533\n",
            "[3000]\tvalid_0's auc: 0.894057\n",
            "[3250]\tvalid_0's auc: 0.894561\n",
            "[3500]\tvalid_0's auc: 0.894927\n",
            "[3750]\tvalid_0's auc: 0.895514\n",
            "[4000]\tvalid_0's auc: 0.895781\n",
            "[4250]\tvalid_0's auc: 0.896119\n",
            "[4500]\tvalid_0's auc: 0.896496\n",
            "[4750]\tvalid_0's auc: 0.896863\n",
            "[5000]\tvalid_0's auc: 0.897154\n",
            "[5250]\tvalid_0's auc: 0.897464\n",
            "[5500]\tvalid_0's auc: 0.897716\n",
            "[5750]\tvalid_0's auc: 0.897905\n",
            "[6000]\tvalid_0's auc: 0.898141\n",
            "[6250]\tvalid_0's auc: 0.89836\n",
            "[6500]\tvalid_0's auc: 0.898601\n",
            "[6750]\tvalid_0's auc: 0.898696\n",
            "[7000]\tvalid_0's auc: 0.898794\n",
            "[7250]\tvalid_0's auc: 0.898776\n",
            "[7500]\tvalid_0's auc: 0.898769\n",
            "[7750]\tvalid_0's auc: 0.898769\n",
            "[8000]\tvalid_0's auc: 0.898769\n",
            "[8250]\tvalid_0's auc: 0.898769\n",
            "[8500]\tvalid_0's auc: 0.898769\n",
            "\n",
            "fold 3\n"
          ]
        },
        {
          "metadata": {
            "tags": null
          },
          "name": "stderr",
          "output_type": "stream",
          "text": [
            "/usr/local/lib/python3.10/dist-packages/lightgbm/engine.py:239: UserWarning: 'verbose_eval' argument is deprecated and will be removed in a future release of LightGBM. Pass 'log_evaluation()' callback via 'callbacks' argument instead.\n",
            "  _log_warning(\"'verbose_eval' argument is deprecated and will be removed in a future release of LightGBM. \"\n"
          ]
        },
        {
          "metadata": {
            "tags": null
          },
          "name": "stdout",
          "output_type": "stream",
          "text": [
            "[250]\tvalid_0's auc: 0.86978\n",
            "[500]\tvalid_0's auc: 0.878723\n",
            "[750]\tvalid_0's auc: 0.883357\n",
            "[1000]\tvalid_0's auc: 0.886368\n",
            "[1250]\tvalid_0's auc: 0.888446\n",
            "[1500]\tvalid_0's auc: 0.890094\n",
            "[1750]\tvalid_0's auc: 0.891236\n",
            "[2000]\tvalid_0's auc: 0.892179\n",
            "[2250]\tvalid_0's auc: 0.893024\n",
            "[2500]\tvalid_0's auc: 0.893783\n",
            "[2750]\tvalid_0's auc: 0.894375\n",
            "[3000]\tvalid_0's auc: 0.894966\n",
            "[3250]\tvalid_0's auc: 0.895408\n",
            "[3500]\tvalid_0's auc: 0.895745\n",
            "[3750]\tvalid_0's auc: 0.89614\n",
            "[4000]\tvalid_0's auc: 0.896421\n",
            "[4250]\tvalid_0's auc: 0.896769\n",
            "[4500]\tvalid_0's auc: 0.896988\n",
            "[4750]\tvalid_0's auc: 0.897308\n",
            "[5000]\tvalid_0's auc: 0.897509\n",
            "[5250]\tvalid_0's auc: 0.897706\n",
            "[5500]\tvalid_0's auc: 0.897852\n",
            "[5750]\tvalid_0's auc: 0.897963\n",
            "[6000]\tvalid_0's auc: 0.898139\n",
            "[6250]\tvalid_0's auc: 0.898217\n",
            "[6500]\tvalid_0's auc: 0.898403\n",
            "[6750]\tvalid_0's auc: 0.898434\n",
            "[7000]\tvalid_0's auc: 0.898452\n",
            "[7250]\tvalid_0's auc: 0.898452\n",
            "[7500]\tvalid_0's auc: 0.898452\n",
            "[7750]\tvalid_0's auc: 0.898452\n",
            "[8000]\tvalid_0's auc: 0.898452\n",
            "[8250]\tvalid_0's auc: 0.898452\n",
            "[8500]\tvalid_0's auc: 0.898452\n",
            "\n",
            "fold 4\n"
          ]
        },
        {
          "metadata": {
            "tags": null
          },
          "name": "stderr",
          "output_type": "stream",
          "text": [
            "/usr/local/lib/python3.10/dist-packages/lightgbm/engine.py:239: UserWarning: 'verbose_eval' argument is deprecated and will be removed in a future release of LightGBM. Pass 'log_evaluation()' callback via 'callbacks' argument instead.\n",
            "  _log_warning(\"'verbose_eval' argument is deprecated and will be removed in a future release of LightGBM. \"\n"
          ]
        },
        {
          "metadata": {
            "tags": null
          },
          "name": "stdout",
          "output_type": "stream",
          "text": [
            "[250]\tvalid_0's auc: 0.876473\n",
            "[500]\tvalid_0's auc: 0.885541\n",
            "[750]\tvalid_0's auc: 0.890103\n",
            "[1000]\tvalid_0's auc: 0.893003\n",
            "[1250]\tvalid_0's auc: 0.895191\n",
            "[1500]\tvalid_0's auc: 0.896722\n",
            "[1750]\tvalid_0's auc: 0.89776\n",
            "[2000]\tvalid_0's auc: 0.898616\n",
            "[2250]\tvalid_0's auc: 0.899357\n",
            "[2500]\tvalid_0's auc: 0.90014\n",
            "[2750]\tvalid_0's auc: 0.900763\n",
            "[3000]\tvalid_0's auc: 0.901151\n",
            "[3250]\tvalid_0's auc: 0.901704\n",
            "[3500]\tvalid_0's auc: 0.902102\n",
            "[3750]\tvalid_0's auc: 0.902539\n",
            "[4000]\tvalid_0's auc: 0.902878\n",
            "[4250]\tvalid_0's auc: 0.903172\n",
            "[4500]\tvalid_0's auc: 0.903503\n",
            "[4750]\tvalid_0's auc: 0.90389\n",
            "[5000]\tvalid_0's auc: 0.904345\n",
            "[5250]\tvalid_0's auc: 0.904608\n",
            "[5500]\tvalid_0's auc: 0.904854\n",
            "[5750]\tvalid_0's auc: 0.905133\n",
            "[6000]\tvalid_0's auc: 0.905302\n",
            "[6250]\tvalid_0's auc: 0.905414\n",
            "[6500]\tvalid_0's auc: 0.905574\n",
            "[6750]\tvalid_0's auc: 0.905778\n",
            "[7000]\tvalid_0's auc: 0.905853\n",
            "[7250]\tvalid_0's auc: 0.90584\n",
            "[7500]\tvalid_0's auc: 0.90584\n",
            "[7750]\tvalid_0's auc: 0.90584\n",
            "[8000]\tvalid_0's auc: 0.90584\n",
            "[8250]\tvalid_0's auc: 0.90584\n",
            "[8500]\tvalid_0's auc: 0.90584\n",
            "\n",
            "fold 5\n"
          ]
        },
        {
          "metadata": {
            "tags": null
          },
          "name": "stderr",
          "output_type": "stream",
          "text": [
            "/usr/local/lib/python3.10/dist-packages/lightgbm/engine.py:239: UserWarning: 'verbose_eval' argument is deprecated and will be removed in a future release of LightGBM. Pass 'log_evaluation()' callback via 'callbacks' argument instead.\n",
            "  _log_warning(\"'verbose_eval' argument is deprecated and will be removed in a future release of LightGBM. \"\n"
          ]
        },
        {
          "metadata": {
            "tags": null
          },
          "name": "stdout",
          "output_type": "stream",
          "text": [
            "[250]\tvalid_0's auc: 0.875798\n",
            "[500]\tvalid_0's auc: 0.885498\n",
            "[750]\tvalid_0's auc: 0.89083\n",
            "[1000]\tvalid_0's auc: 0.893745\n",
            "[1250]\tvalid_0's auc: 0.895837\n",
            "[1500]\tvalid_0's auc: 0.897614\n",
            "[1750]\tvalid_0's auc: 0.898678\n",
            "[2000]\tvalid_0's auc: 0.899619\n",
            "[2250]\tvalid_0's auc: 0.900533\n",
            "[2500]\tvalid_0's auc: 0.901096\n",
            "[2750]\tvalid_0's auc: 0.901521\n",
            "[3000]\tvalid_0's auc: 0.902086\n",
            "[3250]\tvalid_0's auc: 0.902656\n",
            "[3500]\tvalid_0's auc: 0.903017\n",
            "[3750]\tvalid_0's auc: 0.903439\n",
            "[4000]\tvalid_0's auc: 0.903676\n",
            "[4250]\tvalid_0's auc: 0.903946\n",
            "[4500]\tvalid_0's auc: 0.904231\n",
            "[4750]\tvalid_0's auc: 0.904473\n",
            "[5000]\tvalid_0's auc: 0.904794\n",
            "[5250]\tvalid_0's auc: 0.905027\n",
            "[5500]\tvalid_0's auc: 0.905216\n",
            "[5750]\tvalid_0's auc: 0.905371\n",
            "[6000]\tvalid_0's auc: 0.905667\n",
            "[6250]\tvalid_0's auc: 0.905826\n",
            "[6500]\tvalid_0's auc: 0.905955\n",
            "[6750]\tvalid_0's auc: 0.905984\n",
            "[7000]\tvalid_0's auc: 0.906004\n",
            "[7250]\tvalid_0's auc: 0.905999\n",
            "[7500]\tvalid_0's auc: 0.905999\n",
            "[7750]\tvalid_0's auc: 0.905999\n",
            "[8000]\tvalid_0's auc: 0.905999\n",
            "[8250]\tvalid_0's auc: 0.905999\n",
            "[8500]\tvalid_0's auc: 0.905999\n",
            "\n",
            "fold 6\n"
          ]
        },
        {
          "metadata": {
            "tags": null
          },
          "name": "stderr",
          "output_type": "stream",
          "text": [
            "/usr/local/lib/python3.10/dist-packages/lightgbm/engine.py:239: UserWarning: 'verbose_eval' argument is deprecated and will be removed in a future release of LightGBM. Pass 'log_evaluation()' callback via 'callbacks' argument instead.\n",
            "  _log_warning(\"'verbose_eval' argument is deprecated and will be removed in a future release of LightGBM. \"\n"
          ]
        },
        {
          "metadata": {
            "tags": null
          },
          "name": "stdout",
          "output_type": "stream",
          "text": [
            "[250]\tvalid_0's auc: 0.870367\n",
            "[500]\tvalid_0's auc: 0.878784\n",
            "[750]\tvalid_0's auc: 0.883276\n",
            "[1000]\tvalid_0's auc: 0.886109\n",
            "[1250]\tvalid_0's auc: 0.888007\n",
            "[1500]\tvalid_0's auc: 0.889589\n",
            "[1750]\tvalid_0's auc: 0.890616\n",
            "[2000]\tvalid_0's auc: 0.891557\n",
            "[2250]\tvalid_0's auc: 0.89245\n",
            "[2500]\tvalid_0's auc: 0.893064\n",
            "[2750]\tvalid_0's auc: 0.893802\n",
            "[3000]\tvalid_0's auc: 0.894427\n",
            "[3250]\tvalid_0's auc: 0.895087\n",
            "[3500]\tvalid_0's auc: 0.895582\n",
            "[3750]\tvalid_0's auc: 0.896024\n",
            "[4000]\tvalid_0's auc: 0.896471\n",
            "[4250]\tvalid_0's auc: 0.896893\n",
            "[4500]\tvalid_0's auc: 0.897224\n",
            "[4750]\tvalid_0's auc: 0.897459\n",
            "[5000]\tvalid_0's auc: 0.897823\n",
            "[5250]\tvalid_0's auc: 0.898222\n",
            "[5500]\tvalid_0's auc: 0.898456\n",
            "[5750]\tvalid_0's auc: 0.898658\n",
            "[6000]\tvalid_0's auc: 0.898928\n",
            "[6250]\tvalid_0's auc: 0.899165\n",
            "[6500]\tvalid_0's auc: 0.899376\n",
            "[6750]\tvalid_0's auc: 0.899614\n",
            "[7000]\tvalid_0's auc: 0.89963\n",
            "[7250]\tvalid_0's auc: 0.89963\n",
            "[7500]\tvalid_0's auc: 0.89963\n",
            "[7750]\tvalid_0's auc: 0.89963\n",
            "[8000]\tvalid_0's auc: 0.89963\n",
            "[8250]\tvalid_0's auc: 0.89963\n",
            "[8500]\tvalid_0's auc: 0.89963\n",
            "\n",
            "fold 7\n"
          ]
        },
        {
          "metadata": {
            "tags": null
          },
          "name": "stderr",
          "output_type": "stream",
          "text": [
            "/usr/local/lib/python3.10/dist-packages/lightgbm/engine.py:239: UserWarning: 'verbose_eval' argument is deprecated and will be removed in a future release of LightGBM. Pass 'log_evaluation()' callback via 'callbacks' argument instead.\n",
            "  _log_warning(\"'verbose_eval' argument is deprecated and will be removed in a future release of LightGBM. \"\n"
          ]
        },
        {
          "output_type": "stream",
          "name": "stdout",
          "text": [
            "[250]\tvalid_0's auc: 0.868045\n",
            "[500]\tvalid_0's auc: 0.87728\n",
            "[750]\tvalid_0's auc: 0.882263\n",
            "[1000]\tvalid_0's auc: 0.885554\n",
            "[1250]\tvalid_0's auc: 0.88783\n",
            "[1500]\tvalid_0's auc: 0.889397\n",
            "[1750]\tvalid_0's auc: 0.890693\n",
            "[2000]\tvalid_0's auc: 0.891589\n",
            "[2250]\tvalid_0's auc: 0.892369\n",
            "[2500]\tvalid_0's auc: 0.893183\n",
            "[2750]\tvalid_0's auc: 0.893604\n",
            "[3000]\tvalid_0's auc: 0.894163\n",
            "[3250]\tvalid_0's auc: 0.894685\n",
            "[3500]\tvalid_0's auc: 0.895061\n",
            "[3750]\tvalid_0's auc: 0.895399\n",
            "[4000]\tvalid_0's auc: 0.895717\n",
            "[4250]\tvalid_0's auc: 0.896037\n",
            "[4500]\tvalid_0's auc: 0.896349\n",
            "[4750]\tvalid_0's auc: 0.89668\n",
            "[5000]\tvalid_0's auc: 0.896967\n",
            "[5250]\tvalid_0's auc: 0.8972\n",
            "[5500]\tvalid_0's auc: 0.897371\n",
            "[5750]\tvalid_0's auc: 0.897638\n",
            "[6000]\tvalid_0's auc: 0.897804\n",
            "[6250]\tvalid_0's auc: 0.897935\n",
            "[6500]\tvalid_0's auc: 0.898159\n",
            "[6750]\tvalid_0's auc: 0.898226\n",
            "[7000]\tvalid_0's auc: 0.898288\n",
            "[7250]\tvalid_0's auc: 0.89829\n",
            "[7500]\tvalid_0's auc: 0.89829\n",
            "[7750]\tvalid_0's auc: 0.89829\n",
            "[8000]\tvalid_0's auc: 0.89829\n",
            "[8250]\tvalid_0's auc: 0.89829\n",
            "[8500]\tvalid_0's auc: 0.89829\n",
            "\n",
            "fold 8\n"
          ]
        },
        {
          "output_type": "stream",
          "name": "stderr",
          "text": [
            "/usr/local/lib/python3.10/dist-packages/lightgbm/engine.py:239: UserWarning: 'verbose_eval' argument is deprecated and will be removed in a future release of LightGBM. Pass 'log_evaluation()' callback via 'callbacks' argument instead.\n",
            "  _log_warning(\"'verbose_eval' argument is deprecated and will be removed in a future release of LightGBM. \"\n"
          ]
        },
        {
          "output_type": "stream",
          "name": "stdout",
          "text": [
            "[250]\tvalid_0's auc: 0.874197\n",
            "[500]\tvalid_0's auc: 0.883405\n",
            "[750]\tvalid_0's auc: 0.887723\n",
            "[1000]\tvalid_0's auc: 0.890411\n",
            "[1250]\tvalid_0's auc: 0.892397\n",
            "[1500]\tvalid_0's auc: 0.893882\n",
            "[1750]\tvalid_0's auc: 0.89495\n",
            "[2000]\tvalid_0's auc: 0.895675\n",
            "[2250]\tvalid_0's auc: 0.896375\n",
            "[2500]\tvalid_0's auc: 0.897088\n",
            "[2750]\tvalid_0's auc: 0.897498\n",
            "[3000]\tvalid_0's auc: 0.898035\n",
            "[3250]\tvalid_0's auc: 0.898434\n",
            "[3500]\tvalid_0's auc: 0.898917\n",
            "[3750]\tvalid_0's auc: 0.899418\n",
            "[4000]\tvalid_0's auc: 0.899779\n",
            "[4250]\tvalid_0's auc: 0.900254\n",
            "[4500]\tvalid_0's auc: 0.900516\n",
            "[4750]\tvalid_0's auc: 0.900711\n",
            "[5000]\tvalid_0's auc: 0.901045\n",
            "[5250]\tvalid_0's auc: 0.901357\n",
            "[5500]\tvalid_0's auc: 0.901519\n",
            "[5750]\tvalid_0's auc: 0.901685\n",
            "[6000]\tvalid_0's auc: 0.901971\n",
            "[6250]\tvalid_0's auc: 0.902135\n",
            "[6500]\tvalid_0's auc: 0.902319\n",
            "[6750]\tvalid_0's auc: 0.90248\n",
            "[7000]\tvalid_0's auc: 0.902595\n",
            "[7250]\tvalid_0's auc: 0.902589\n",
            "[7500]\tvalid_0's auc: 0.90258\n",
            "[7750]\tvalid_0's auc: 0.90258\n",
            "[8000]\tvalid_0's auc: 0.90258\n",
            "[8250]\tvalid_0's auc: 0.90258\n",
            "[8500]\tvalid_0's auc: 0.90258\n",
            "\n",
            "fold 9\n"
          ]
        },
        {
          "output_type": "stream",
          "name": "stderr",
          "text": [
            "/usr/local/lib/python3.10/dist-packages/lightgbm/engine.py:239: UserWarning: 'verbose_eval' argument is deprecated and will be removed in a future release of LightGBM. Pass 'log_evaluation()' callback via 'callbacks' argument instead.\n",
            "  _log_warning(\"'verbose_eval' argument is deprecated and will be removed in a future release of LightGBM. \"\n"
          ]
        },
        {
          "output_type": "stream",
          "name": "stdout",
          "text": [
            "[250]\tvalid_0's auc: 0.86876\n",
            "[500]\tvalid_0's auc: 0.877956\n",
            "[750]\tvalid_0's auc: 0.883137\n",
            "[1000]\tvalid_0's auc: 0.886136\n",
            "[1250]\tvalid_0's auc: 0.888268\n",
            "[1500]\tvalid_0's auc: 0.889887\n",
            "[1750]\tvalid_0's auc: 0.891238\n",
            "[2000]\tvalid_0's auc: 0.892333\n",
            "[2250]\tvalid_0's auc: 0.893239\n",
            "[2500]\tvalid_0's auc: 0.894035\n",
            "[2750]\tvalid_0's auc: 0.894791\n",
            "[3000]\tvalid_0's auc: 0.89548\n",
            "[3250]\tvalid_0's auc: 0.896006\n",
            "[3500]\tvalid_0's auc: 0.896479\n",
            "[3750]\tvalid_0's auc: 0.897057\n",
            "[4000]\tvalid_0's auc: 0.897526\n",
            "[4250]\tvalid_0's auc: 0.89803\n",
            "[4500]\tvalid_0's auc: 0.898387\n",
            "[4750]\tvalid_0's auc: 0.898735\n",
            "[5000]\tvalid_0's auc: 0.899087\n",
            "[5250]\tvalid_0's auc: 0.899397\n",
            "[5500]\tvalid_0's auc: 0.899528\n",
            "[5750]\tvalid_0's auc: 0.899711\n",
            "[6000]\tvalid_0's auc: 0.899889\n",
            "[6250]\tvalid_0's auc: 0.900038\n",
            "[6500]\tvalid_0's auc: 0.900148\n",
            "[6750]\tvalid_0's auc: 0.90027\n",
            "[7000]\tvalid_0's auc: 0.900298\n",
            "[7250]\tvalid_0's auc: 0.900298\n",
            "[7500]\tvalid_0's auc: 0.900298\n",
            "[7750]\tvalid_0's auc: 0.900298\n",
            "[8000]\tvalid_0's auc: 0.900298\n",
            "[8250]\tvalid_0's auc: 0.900298\n",
            "[8500]\tvalid_0's auc: 0.900298\n",
            "\n",
            "fold 10\n"
          ]
        },
        {
          "output_type": "stream",
          "name": "stderr",
          "text": [
            "/usr/local/lib/python3.10/dist-packages/lightgbm/engine.py:239: UserWarning: 'verbose_eval' argument is deprecated and will be removed in a future release of LightGBM. Pass 'log_evaluation()' callback via 'callbacks' argument instead.\n",
            "  _log_warning(\"'verbose_eval' argument is deprecated and will be removed in a future release of LightGBM. \"\n"
          ]
        },
        {
          "output_type": "stream",
          "name": "stdout",
          "text": [
            "[250]\tvalid_0's auc: 0.8698\n",
            "[500]\tvalid_0's auc: 0.878793\n",
            "[750]\tvalid_0's auc: 0.883537\n",
            "[1000]\tvalid_0's auc: 0.886341\n",
            "[1250]\tvalid_0's auc: 0.888228\n",
            "[1500]\tvalid_0's auc: 0.889743\n",
            "[1750]\tvalid_0's auc: 0.890877\n",
            "[2000]\tvalid_0's auc: 0.891795\n",
            "[2250]\tvalid_0's auc: 0.892645\n",
            "[2500]\tvalid_0's auc: 0.893256\n",
            "[2750]\tvalid_0's auc: 0.893725\n",
            "[3000]\tvalid_0's auc: 0.894353\n",
            "[3250]\tvalid_0's auc: 0.894794\n",
            "[3500]\tvalid_0's auc: 0.895061\n",
            "[3750]\tvalid_0's auc: 0.895431\n",
            "[4000]\tvalid_0's auc: 0.895764\n",
            "[4250]\tvalid_0's auc: 0.896144\n",
            "[4500]\tvalid_0's auc: 0.896381\n",
            "[4750]\tvalid_0's auc: 0.89679\n",
            "[5000]\tvalid_0's auc: 0.897044\n",
            "[5250]\tvalid_0's auc: 0.897254\n",
            "[5500]\tvalid_0's auc: 0.897489\n",
            "[5750]\tvalid_0's auc: 0.897669\n",
            "[6000]\tvalid_0's auc: 0.897825\n",
            "[6250]\tvalid_0's auc: 0.897924\n",
            "[6500]\tvalid_0's auc: 0.898084\n",
            "[6750]\tvalid_0's auc: 0.898053\n",
            "[7000]\tvalid_0's auc: 0.898058\n",
            "[7250]\tvalid_0's auc: 0.898058\n",
            "[7500]\tvalid_0's auc: 0.898058\n",
            "[7750]\tvalid_0's auc: 0.898058\n",
            "[8000]\tvalid_0's auc: 0.898058\n",
            "[8250]\tvalid_0's auc: 0.898058\n",
            "[8500]\tvalid_0's auc: 0.898058\n",
            "\n",
            "\n",
            "CV AUC: 0.9007\n"
          ]
        }
      ]
    },
    {
      "cell_type": "code",
      "source": [],
      "metadata": {
        "id": "JuGzPPySQMe3"
      },
      "execution_count": null,
      "outputs": []
    }
  ]
}